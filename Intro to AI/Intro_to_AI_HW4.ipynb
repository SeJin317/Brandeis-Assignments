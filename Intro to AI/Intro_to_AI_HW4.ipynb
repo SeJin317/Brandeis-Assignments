{
  "nbformat": 4,
  "nbformat_minor": 0,
  "metadata": {
    "colab": {
      "provenance": []
    },
    "kernelspec": {
      "name": "python3",
      "display_name": "Python 3"
    },
    "language_info": {
      "name": "python"
    }
  },
  "cells": [
    {
      "cell_type": "code",
      "source": [
        "import numpy as np\n",
        "import pandas as pd\n",
        "\n",
        "train_df = pd.read_csv('HW4_train.csv')\n",
        "test_df = pd.read_csv('HW4_future.csv')"
      ],
      "metadata": {
        "id": "lyyS3Xdq3a0m"
      },
      "execution_count": 26,
      "outputs": []
    },
    {
      "cell_type": "markdown",
      "source": [
        "# **Q1. Construct 95% prediction intervals for \"price\".**"
      ],
      "metadata": {
        "id": "lYZ_0KTWmWXz"
      }
    },
    {
      "cell_type": "markdown",
      "source": [
        "### 1. Train conformal interval on train set"
      ],
      "metadata": {
        "id": "JgesgaI31khT"
      }
    },
    {
      "cell_type": "markdown",
      "source": [
        "Importing packages and defining X,y"
      ],
      "metadata": {
        "id": "gIseCLn40VFc"
      }
    },
    {
      "cell_type": "code",
      "source": [
        "import numpy as np\n",
        "import pandas as pd\n",
        "from sklearn.model_selection import train_test_split\n",
        "from sklearn.linear_model import Lasso\n",
        "from sklearn.metrics import mean_squared_error\n",
        "\n",
        "\n",
        "X = train_df.drop('price', axis=1)  # Features\n",
        "y = train_df['price']  # Target variable\n",
        "\n",
        "# Splitting data into training and testing sets\n",
        "X_train, X_test, y_train, y_test = train_test_split(X, y, test_size=0.2, random_state=42)"
      ],
      "metadata": {
        "id": "aoWwEXFv4paB"
      },
      "execution_count": 27,
      "outputs": []
    },
    {
      "cell_type": "markdown",
      "source": [
        "Data preprocessing and training the model\n",
        "\n",
        "I will use Lasso regression for predicting future y"
      ],
      "metadata": {
        "id": "BmJFXF-t0cIg"
      }
    },
    {
      "cell_type": "code",
      "source": [
        "from sklearn.preprocessing import StandardScaler, OneHotEncoder\n",
        "from sklearn.compose import ColumnTransformer\n",
        "from sklearn.pipeline import Pipeline\n",
        "from sklearn.impute import SimpleImputer\n",
        "\n",
        "# Identifying numeric and categorical columns\n",
        "numeric_features = X_train.select_dtypes(include=['int64', 'float64']).columns\n",
        "categorical_features = X_train.select_dtypes(include=['object', 'category']).columns\n",
        "\n",
        "# Creating a column transformer with transformers\n",
        "preprocessor = ColumnTransformer(\n",
        "    transformers=[\n",
        "        ('num', Pipeline(steps=[\n",
        "            ('imputer', SimpleImputer(strategy='mean')),  # Impute missing values in numeric columns with the mean\n",
        "            ('scaler', StandardScaler())\n",
        "        ]), numeric_features),\n",
        "        ('cat', Pipeline(steps=[\n",
        "            ('imputer', SimpleImputer(strategy='constant', fill_value='missing')),  # Impute missing values in categorical columns with 'missing'\n",
        "            ('onehot', OneHotEncoder(handle_unknown='ignore'))\n",
        "        ]), categorical_features)\n",
        "    ])\n",
        "\n",
        "# Creating a pipeline that includes preprocessing and the model\n",
        "pipeline = Pipeline(steps=[\n",
        "    ('preprocessor', preprocessor),\n",
        "    ('model', Lasso(alpha=1.0))\n",
        "])\n",
        "\n",
        "# Fitting the model\n",
        "pipeline.fit(X_train, y_train)\n",
        "\n",
        "# Making predictions\n",
        "y_pred = pipeline.predict(X_test)\n",
        "error_pred = y_test - y_pred\n",
        "\n",
        "# Evaluating the model\n",
        "mse = mean_squared_error(y_test, y_pred)\n",
        "print(f\"Mean Squared Error: {mse}\")"
      ],
      "metadata": {
        "colab": {
          "base_uri": "https://localhost:8080/"
        },
        "id": "hK5Yo5m86cz0",
        "outputId": "1ebf72c6-a6ef-4e2e-b837-99ef3578aeb9"
      },
      "execution_count": 28,
      "outputs": [
        {
          "output_type": "stream",
          "name": "stdout",
          "text": [
            "Mean Squared Error: 20034.822457874456\n"
          ]
        }
      ]
    },
    {
      "cell_type": "code",
      "source": [
        "# find the quantile for |prediction error|\n",
        "q=np.quantile(np.abs(error_pred),0.95)\n",
        "q"
      ],
      "metadata": {
        "colab": {
          "base_uri": "https://localhost:8080/"
        },
        "id": "yniyMRQq8rjV",
        "outputId": "809f3788-9d92-4cbb-ba95-7e1d9765bb1b"
      },
      "execution_count": 29,
      "outputs": [
        {
          "output_type": "execute_result",
          "data": {
            "text/plain": [
              "222.34799966092433"
            ]
          },
          "metadata": {},
          "execution_count": 29
        }
      ]
    },
    {
      "cell_type": "code",
      "source": [
        "# construct prediction interval for future Y\n",
        "lower_bound= pipeline.predict(X_test)-q # f(X)-q\n",
        "upper_bound= pipeline.predict(X_test)+q # f(X)+q\n"
      ],
      "metadata": {
        "id": "fRBBcR8M9mm-"
      },
      "execution_count": 30,
      "outputs": []
    },
    {
      "cell_type": "code",
      "source": [
        "# check the coverage probability\n",
        "if_cover=(lower_bound<=y_test)*(y_test<=upper_bound)\n",
        "np.mean(if_cover)"
      ],
      "metadata": {
        "colab": {
          "base_uri": "https://localhost:8080/"
        },
        "id": "6xhfx_FI93ub",
        "outputId": "3f8dbf9c-e70a-45ea-f306-2b713692eaf0"
      },
      "execution_count": 31,
      "outputs": [
        {
          "output_type": "execute_result",
          "data": {
            "text/plain": [
              "0.9499131145865276"
            ]
          },
          "metadata": {},
          "execution_count": 31
        }
      ]
    },
    {
      "cell_type": "code",
      "source": [
        "# compute the width of the prediction interval\n",
        "2*q"
      ],
      "metadata": {
        "colab": {
          "base_uri": "https://localhost:8080/"
        },
        "id": "wumDBgqt97Qr",
        "outputId": "6e82fe4b-b0d2-4708-c47b-c3846d1e6c70"
      },
      "execution_count": 32,
      "outputs": [
        {
          "output_type": "execute_result",
          "data": {
            "text/plain": [
              "444.69599932184866"
            ]
          },
          "metadata": {},
          "execution_count": 32
        }
      ]
    },
    {
      "cell_type": "markdown",
      "source": [
        "## 2. Apply this method on the test set"
      ],
      "metadata": {
        "id": "XTjF4vLq130r"
      }
    },
    {
      "cell_type": "code",
      "source": [
        "X = test_df.drop('price', axis=1)  # Features\n",
        "y = test_df['price']  # Target variable"
      ],
      "metadata": {
        "id": "55ZETxa2176l"
      },
      "execution_count": 33,
      "outputs": []
    },
    {
      "cell_type": "code",
      "source": [
        "from sklearn.preprocessing import StandardScaler, OneHotEncoder\n",
        "from sklearn.compose import ColumnTransformer\n",
        "from sklearn.pipeline import Pipeline\n",
        "from sklearn.impute import SimpleImputer\n",
        "\n",
        "# Identifying numeric and categorical columns\n",
        "numeric_features = X.select_dtypes(include=['int64', 'float64']).columns\n",
        "categorical_features = X.select_dtypes(include=['object', 'category']).columns\n",
        "\n",
        "# Creating a column transformer with transformers\n",
        "preprocessor = ColumnTransformer(\n",
        "    transformers=[\n",
        "        ('num', Pipeline(steps=[\n",
        "            ('imputer', SimpleImputer(strategy='mean')),  # Impute missing values in numeric columns with the mean\n",
        "            ('scaler', StandardScaler())\n",
        "        ]), numeric_features),\n",
        "        ('cat', Pipeline(steps=[\n",
        "            ('imputer', SimpleImputer(strategy='constant', fill_value='missing')),  # Impute missing values in categorical columns with 'missing'\n",
        "            ('onehot', OneHotEncoder(handle_unknown='ignore'))\n",
        "        ]), categorical_features)\n",
        "    ])"
      ],
      "metadata": {
        "id": "ok24pIqj2Q7y"
      },
      "execution_count": 34,
      "outputs": []
    },
    {
      "cell_type": "code",
      "source": [
        "y_future_pred = pipeline.predict(X)"
      ],
      "metadata": {
        "id": "p3z9a8Vt2ibE"
      },
      "execution_count": 36,
      "outputs": []
    },
    {
      "cell_type": "code",
      "source": [
        "# Construct prediction interval for future dataset\n",
        "future_lower_bound = y_future_pred - q\n",
        "future_upper_bound = y_future_pred + q\n",
        "\n",
        "# Combine into a DataFrame\n",
        "prediction_intervals = pd.DataFrame({\n",
        "    'lower_bound': future_lower_bound,\n",
        "    'upper_bound': future_upper_bound\n",
        "})\n",
        "\n",
        "# Save the DataFrame to a CSV file\n",
        "prediction_intervals.to_csv('HW4_Q1.csv', index=False)"
      ],
      "metadata": {
        "id": "ltX94Uur3Idj"
      },
      "execution_count": 37,
      "outputs": []
    },
    {
      "cell_type": "markdown",
      "source": [
        "## **Q2. Question 2: suppose that you want to consider the effect of being instantly bookable (\"instant_bookable\" being \"t\") on \"price\". You are willing to assume that the unconfoundedness assumption holds once we include \"city\" and \"accommodates\" as confounders. At 5% significance level, can you say that being instantly bookable always has no effect on \"price\"?**\n",
        "[15 points] Submit a Jupyter notebook with comments, supporting calculations (such as p-values) and the conclusion. Please use only \"HW4_train.csv\" for this question. (Hint: \"HW4_future.csv\" is not helpful for this question.)"
      ],
      "metadata": {
        "id": "rA8smw1--SQ6"
      }
    },
    {
      "cell_type": "code",
      "source": [
        "from sklearn.linear_model import LinearRegression\n",
        "from sklearn.model_selection import train_test_split\n",
        "from sklearn.metrics import mean_squared_error\n",
        "import statsmodels.api as sm\n",
        "\n",
        "# Load the dataset\n",
        "df = pd.read_csv('HW4_train.csv')\n",
        "\n",
        "# Preprocessing: Convert 'instant_bookable' to numeric (t -> 1, f -> 0)\n",
        "df['instant_bookable'] = df['instant_bookable'].map({'t': 1, 'f': 0})\n",
        "\n",
        "# Keeping only the relevant columns\n",
        "relevant_columns = df[['price', 'instant_bookable', 'city', 'accommodates']]\n",
        "\n",
        "# Handling categorical variables ('city') using one-hot encoding\n",
        "X = pd.get_dummies(relevant_columns.drop('price', axis=1), drop_first=True)\n",
        "y = relevant_columns['price']\n",
        "\n",
        "# Adding a constant for the intercept term for the OLS model\n",
        "X = sm.add_constant(X)\n",
        "\n",
        "# Splitting the data into training and testing sets for a more robust analysis\n",
        "X_train, X_test, y_train, y_test = train_test_split(X, y, test_size=0.2, random_state=42)\n",
        "\n",
        "# Fit an OLS model\n",
        "model = sm.OLS(y_train, X_train).fit()\n",
        "\n",
        "# Print the summary of the regression\n",
        "model_summary = model.summary()\n",
        "model_summary\n"
      ],
      "metadata": {
        "colab": {
          "base_uri": "https://localhost:8080/",
          "height": 569
        },
        "id": "8EBhzvdc-jas",
        "outputId": "55ac48cb-ea8a-4550-f35b-46a6cd37e903"
      },
      "execution_count": 3,
      "outputs": [
        {
          "output_type": "execute_result",
          "data": {
            "text/plain": [
              "<class 'statsmodels.iolib.summary.Summary'>\n",
              "\"\"\"\n",
              "                            OLS Regression Results                            \n",
              "==============================================================================\n",
              "Dep. Variable:                  price   R-squared:                       0.261\n",
              "Model:                            OLS   Adj. R-squared:                  0.261\n",
              "Method:                 Least Squares   F-statistic:                     1972.\n",
              "Date:                Thu, 14 Mar 2024   Prob (F-statistic):               0.00\n",
              "Time:                        19:27:34   Log-Likelihood:            -2.5238e+05\n",
              "No. Observations:               39129   AIC:                         5.048e+05\n",
              "Df Residuals:                   39121   BIC:                         5.048e+05\n",
              "Df Model:                           7                                         \n",
              "Covariance Type:            nonrobust                                         \n",
              "====================================================================================\n",
              "                       coef    std err          t      P>|t|      [0.025      0.975]\n",
              "------------------------------------------------------------------------------------\n",
              "const               44.1133      3.809     11.582      0.000      36.648      51.578\n",
              "instant_bookable   -19.4571      1.761    -11.052      0.000     -22.908     -16.006\n",
              "accommodates        40.1117      0.359    111.848      0.000      39.409      40.815\n",
              "city_Chicago       -56.0157      4.927    -11.369      0.000     -65.673     -46.358\n",
              "city_DC             35.0376      4.537      7.723      0.000      26.146      43.929\n",
              "city_LA            -17.6712      3.842     -4.599      0.000     -25.202     -10.141\n",
              "city_NYC            -7.5297      3.768     -1.998      0.046     -14.916      -0.144\n",
              "city_SF             60.2861      4.438     13.585      0.000      51.588      68.984\n",
              "==============================================================================\n",
              "Omnibus:                    37743.055   Durbin-Watson:                   2.010\n",
              "Prob(Omnibus):                  0.000   Jarque-Bera (JB):          2532374.763\n",
              "Skew:                           4.616   Prob(JB):                         0.00\n",
              "Kurtosis:                      41.315   Cond. No.                         46.8\n",
              "==============================================================================\n",
              "\n",
              "Notes:\n",
              "[1] Standard Errors assume that the covariance matrix of the errors is correctly specified.\n",
              "\"\"\""
            ],
            "text/html": [
              "<table class=\"simpletable\">\n",
              "<caption>OLS Regression Results</caption>\n",
              "<tr>\n",
              "  <th>Dep. Variable:</th>          <td>price</td>      <th>  R-squared:         </th>  <td>   0.261</td>  \n",
              "</tr>\n",
              "<tr>\n",
              "  <th>Model:</th>                   <td>OLS</td>       <th>  Adj. R-squared:    </th>  <td>   0.261</td>  \n",
              "</tr>\n",
              "<tr>\n",
              "  <th>Method:</th>             <td>Least Squares</td>  <th>  F-statistic:       </th>  <td>   1972.</td>  \n",
              "</tr>\n",
              "<tr>\n",
              "  <th>Date:</th>             <td>Thu, 14 Mar 2024</td> <th>  Prob (F-statistic):</th>   <td>  0.00</td>   \n",
              "</tr>\n",
              "<tr>\n",
              "  <th>Time:</th>                 <td>19:27:34</td>     <th>  Log-Likelihood:    </th> <td>-2.5238e+05</td>\n",
              "</tr>\n",
              "<tr>\n",
              "  <th>No. Observations:</th>      <td> 39129</td>      <th>  AIC:               </th>  <td>5.048e+05</td> \n",
              "</tr>\n",
              "<tr>\n",
              "  <th>Df Residuals:</th>          <td> 39121</td>      <th>  BIC:               </th>  <td>5.048e+05</td> \n",
              "</tr>\n",
              "<tr>\n",
              "  <th>Df Model:</th>              <td>     7</td>      <th>                     </th>      <td> </td>     \n",
              "</tr>\n",
              "<tr>\n",
              "  <th>Covariance Type:</th>      <td>nonrobust</td>    <th>                     </th>      <td> </td>     \n",
              "</tr>\n",
              "</table>\n",
              "<table class=\"simpletable\">\n",
              "<tr>\n",
              "          <td></td>            <th>coef</th>     <th>std err</th>      <th>t</th>      <th>P>|t|</th>  <th>[0.025</th>    <th>0.975]</th>  \n",
              "</tr>\n",
              "<tr>\n",
              "  <th>const</th>            <td>   44.1133</td> <td>    3.809</td> <td>   11.582</td> <td> 0.000</td> <td>   36.648</td> <td>   51.578</td>\n",
              "</tr>\n",
              "<tr>\n",
              "  <th>instant_bookable</th> <td>  -19.4571</td> <td>    1.761</td> <td>  -11.052</td> <td> 0.000</td> <td>  -22.908</td> <td>  -16.006</td>\n",
              "</tr>\n",
              "<tr>\n",
              "  <th>accommodates</th>     <td>   40.1117</td> <td>    0.359</td> <td>  111.848</td> <td> 0.000</td> <td>   39.409</td> <td>   40.815</td>\n",
              "</tr>\n",
              "<tr>\n",
              "  <th>city_Chicago</th>     <td>  -56.0157</td> <td>    4.927</td> <td>  -11.369</td> <td> 0.000</td> <td>  -65.673</td> <td>  -46.358</td>\n",
              "</tr>\n",
              "<tr>\n",
              "  <th>city_DC</th>          <td>   35.0376</td> <td>    4.537</td> <td>    7.723</td> <td> 0.000</td> <td>   26.146</td> <td>   43.929</td>\n",
              "</tr>\n",
              "<tr>\n",
              "  <th>city_LA</th>          <td>  -17.6712</td> <td>    3.842</td> <td>   -4.599</td> <td> 0.000</td> <td>  -25.202</td> <td>  -10.141</td>\n",
              "</tr>\n",
              "<tr>\n",
              "  <th>city_NYC</th>         <td>   -7.5297</td> <td>    3.768</td> <td>   -1.998</td> <td> 0.046</td> <td>  -14.916</td> <td>   -0.144</td>\n",
              "</tr>\n",
              "<tr>\n",
              "  <th>city_SF</th>          <td>   60.2861</td> <td>    4.438</td> <td>   13.585</td> <td> 0.000</td> <td>   51.588</td> <td>   68.984</td>\n",
              "</tr>\n",
              "</table>\n",
              "<table class=\"simpletable\">\n",
              "<tr>\n",
              "  <th>Omnibus:</th>       <td>37743.055</td> <th>  Durbin-Watson:     </th>  <td>   2.010</td>  \n",
              "</tr>\n",
              "<tr>\n",
              "  <th>Prob(Omnibus):</th>  <td> 0.000</td>   <th>  Jarque-Bera (JB):  </th> <td>2532374.763</td>\n",
              "</tr>\n",
              "<tr>\n",
              "  <th>Skew:</th>           <td> 4.616</td>   <th>  Prob(JB):          </th>  <td>    0.00</td>  \n",
              "</tr>\n",
              "<tr>\n",
              "  <th>Kurtosis:</th>       <td>41.315</td>   <th>  Cond. No.          </th>  <td>    46.8</td>  \n",
              "</tr>\n",
              "</table><br/><br/>Notes:<br/>[1] Standard Errors assume that the covariance matrix of the errors is correctly specified."
            ],
            "text/latex": "\\begin{center}\n\\begin{tabular}{lclc}\n\\toprule\n\\textbf{Dep. Variable:}    &      price       & \\textbf{  R-squared:         } &      0.261   \\\\\n\\textbf{Model:}            &       OLS        & \\textbf{  Adj. R-squared:    } &      0.261   \\\\\n\\textbf{Method:}           &  Least Squares   & \\textbf{  F-statistic:       } &      1972.   \\\\\n\\textbf{Date:}             & Thu, 14 Mar 2024 & \\textbf{  Prob (F-statistic):} &      0.00    \\\\\n\\textbf{Time:}             &     19:27:34     & \\textbf{  Log-Likelihood:    } & -2.5238e+05  \\\\\n\\textbf{No. Observations:} &       39129      & \\textbf{  AIC:               } &  5.048e+05   \\\\\n\\textbf{Df Residuals:}     &       39121      & \\textbf{  BIC:               } &  5.048e+05   \\\\\n\\textbf{Df Model:}         &           7      & \\textbf{                     } &              \\\\\n\\textbf{Covariance Type:}  &    nonrobust     & \\textbf{                     } &              \\\\\n\\bottomrule\n\\end{tabular}\n\\begin{tabular}{lcccccc}\n                           & \\textbf{coef} & \\textbf{std err} & \\textbf{t} & \\textbf{P$> |$t$|$} & \\textbf{[0.025} & \\textbf{0.975]}  \\\\\n\\midrule\n\\textbf{const}             &      44.1133  &        3.809     &    11.582  &         0.000        &       36.648    &       51.578     \\\\\n\\textbf{instant\\_bookable} &     -19.4571  &        1.761     &   -11.052  &         0.000        &      -22.908    &      -16.006     \\\\\n\\textbf{accommodates}      &      40.1117  &        0.359     &   111.848  &         0.000        &       39.409    &       40.815     \\\\\n\\textbf{city\\_Chicago}     &     -56.0157  &        4.927     &   -11.369  &         0.000        &      -65.673    &      -46.358     \\\\\n\\textbf{city\\_DC}          &      35.0376  &        4.537     &     7.723  &         0.000        &       26.146    &       43.929     \\\\\n\\textbf{city\\_LA}          &     -17.6712  &        3.842     &    -4.599  &         0.000        &      -25.202    &      -10.141     \\\\\n\\textbf{city\\_NYC}         &      -7.5297  &        3.768     &    -1.998  &         0.046        &      -14.916    &       -0.144     \\\\\n\\textbf{city\\_SF}          &      60.2861  &        4.438     &    13.585  &         0.000        &       51.588    &       68.984     \\\\\n\\bottomrule\n\\end{tabular}\n\\begin{tabular}{lclc}\n\\textbf{Omnibus:}       & 37743.055 & \\textbf{  Durbin-Watson:     } &      2.010   \\\\\n\\textbf{Prob(Omnibus):} &    0.000  & \\textbf{  Jarque-Bera (JB):  } & 2532374.763  \\\\\n\\textbf{Skew:}          &    4.616  & \\textbf{  Prob(JB):          } &       0.00   \\\\\n\\textbf{Kurtosis:}      &   41.315  & \\textbf{  Cond. No.          } &       46.8   \\\\\n\\bottomrule\n\\end{tabular}\n%\\caption{OLS Regression Results}\n\\end{center}\n\nNotes: \\newline\n [1] Standard Errors assume that the covariance matrix of the errors is correctly specified."
          },
          "metadata": {},
          "execution_count": 3
        }
      ]
    },
    {
      "cell_type": "markdown",
      "source": [
        "According to the result above, the coefficient for \"instant_bookable\" is -19.4571 with a p-value close to 0. This shows that the variable \"instant_bookable\" is statistically significant at 5% significance level.\n",
        "\n",
        "We can reject the null hypothesis that being instantly bookable has no effect on the price. The negative coefficient of -19.4571 suggests that it has a significant negative effect on the price."
      ],
      "metadata": {
        "id": "CiIEJjZetWEA"
      }
    },
    {
      "cell_type": "markdown",
      "source": [
        "## **Q3. suppose that you want to consider the effect of being instantly bookable (\"instant_bookable\" being \"t\") on \"price\". You are willing to assume that the unconfoundedness assumption holds once we include enough confounders. For confounders, use \"bathrooms\", \"accommodates\" and \"cancellation_policy\".**\n",
        "[15 points] Submit a Jupyter notebook that does the following. (1) Use K-NN to build a model for conditional average treatment effect (CATE). (2) For each of the three confounders, make a scatter plot of CATE against this confounder. (Hint: \"HW4_future.csv\" is not helpful for this question.)"
      ],
      "metadata": {
        "id": "4Ez0LXMkLFaz"
      }
    },
    {
      "cell_type": "code",
      "source": [
        "import pandas as pd\n",
        "import numpy as np\n",
        "from sklearn.model_selection import train_test_split\n",
        "from sklearn.neighbors import KNeighborsRegressor\n",
        "import matplotlib.pyplot as plt\n",
        "\n",
        "df = pd.read_csv('HW4_train.csv')"
      ],
      "metadata": {
        "id": "Y6ovQxfByMlw"
      },
      "execution_count": 18,
      "outputs": []
    },
    {
      "cell_type": "markdown",
      "source": [
        "Data preprocessing and defining new variables"
      ],
      "metadata": {
        "id": "lLJgLPUoyOpp"
      }
    },
    {
      "cell_type": "code",
      "source": [
        "# Convert 'instant_bookable' to numeric (t -> 1, f -> 0)\n",
        "df['instant_bookable'] = df['instant_bookable'].apply(lambda x: 1 if x == 't' else 0)\n",
        "\n",
        "# Removing rows with NAN values in 'bathrooms', 'accommodates'\n",
        "df.dropna(subset=['bathrooms', 'accommodates'], inplace=True)\n",
        "\n",
        "# Handling categorical variables ('cancellation_policy) using one-hot encoding\n",
        "df = pd.get_dummies(df, columns=['cancellation_policy'], drop_first=True)\n",
        "\n",
        "# Define the treatment variable\n",
        "treatment = df['instant_bookable']\n",
        "\n",
        "# Define the outcome variable\n",
        "outcome = df['price']\n",
        "\n",
        "# Define confounders\n",
        "# Since I used one-hot encoding, get columns starting with 'cancellation_policy_'\n",
        "confounders = df[['bathrooms', 'accommodates'] + [col for col in df.columns if col.startswith('cancellation_policy_')]]\n"
      ],
      "metadata": {
        "id": "hwBr2vVJvoPm"
      },
      "execution_count": 19,
      "outputs": []
    },
    {
      "cell_type": "markdown",
      "source": [
        "Using KNN to predict CATE"
      ],
      "metadata": {
        "id": "kXEzow-Pz17A"
      }
    },
    {
      "cell_type": "code",
      "source": [
        "# Split the dataset into treated and control groups\n",
        "treated_df = df[df['instant_bookable'] == 1]\n",
        "control_df = df[df['instant_bookable'] == 0]\n",
        "\n",
        "# Function to estimate CATE using K-NN\n",
        "def estimate_cate(X, treatment, outcome, n_neighbors=5):\n",
        "    # Split the data into training and testing sets\n",
        "    X_train, X_test, y_train, y_test, treatment_train, treatment_test = train_test_split(X, outcome, treatment, test_size=0.2, random_state=42)\n",
        "\n",
        "    # K-NN regressor for treated and control\n",
        "    knn_treated = KNeighborsRegressor(n_neighbors=n_neighbors)\n",
        "    knn_control = KNeighborsRegressor(n_neighbors=n_neighbors)\n",
        "\n",
        "    # Fit the models\n",
        "    knn_treated.fit(X_train[treatment_train == 1], y_train[treatment_train == 1])\n",
        "    knn_control.fit(X_train[treatment_train == 0], y_train[treatment_train == 0])\n",
        "\n",
        "    # Predict outcomes\n",
        "    y_pred_treated = knn_treated.predict(X_test)\n",
        "    y_pred_control = knn_control.predict(X_test)\n",
        "\n",
        "    # Estimate CATE\n",
        "    cate_estimates = y_pred_treated - y_pred_control\n",
        "    return X_test, cate_estimates\n",
        "\n",
        "# Estimate CATE\n",
        "X_test, cate_estimates = estimate_cate(confounders, treatment, outcome, n_neighbors=5)\n"
      ],
      "metadata": {
        "id": "1XLDjZdcLUyW"
      },
      "execution_count": 20,
      "outputs": []
    },
    {
      "cell_type": "markdown",
      "source": [
        "Make a scatterplot"
      ],
      "metadata": {
        "id": "2f2hcKT8zr3p"
      }
    },
    {
      "cell_type": "code",
      "source": [
        "# Function to plot CATE against a confounder\n",
        "def plot_cate_against_confounder(X_test, cate_estimates, confounder_name):\n",
        "    plt.scatter(X_test[confounder_name], cate_estimates, alpha=0.5)\n",
        "    plt.xlabel(confounder_name)\n",
        "    plt.ylabel('Estimated CATE')\n",
        "    plt.title(f'Estimated CATE vs. {confounder_name}')\n",
        "    plt.show()\n",
        "\n",
        "# Plot CATE against each confounder\n",
        "for confounder in ['bathrooms', 'accommodates']:\n",
        "    plot_cate_against_confounder(X_test, cate_estimates, confounder)"
      ],
      "metadata": {
        "colab": {
          "base_uri": "https://localhost:8080/",
          "height": 927
        },
        "id": "Lcf4k3lOvqg9",
        "outputId": "c1beff2a-14d6-4119-8f65-54be2cd713fc"
      },
      "execution_count": 21,
      "outputs": [
        {
          "output_type": "display_data",
          "data": {
            "text/plain": [
              "<Figure size 640x480 with 1 Axes>"
            ],
            "image/png": "[encoded data removed]"
          },
          "metadata": {}
        },
        {
          "output_type": "display_data",
          "data": {
            "text/plain": [
              "<Figure size 640x480 with 1 Axes>"
            ],
            "image/png": "[encoded data removed]"
          },
          "metadata": {}
        }
      ]
    }
  ]
}
