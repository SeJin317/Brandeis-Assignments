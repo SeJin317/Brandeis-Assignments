{
  "nbformat": 4,
  "nbformat_minor": 0,
  "metadata": {
    "colab": {
      "provenance": []
    },
    "kernelspec": {
      "name": "python3",
      "display_name": "Python 3"
    },
    "language_info": {
      "name": "python"
    }
  },
  "cells": [
    {
      "cell_type": "code",
      "source": [
        "clear()"
      ],
      "metadata": {
        "colab": {
          "base_uri": "https://localhost:8080/"
        },
        "id": "feFWyV1IbdQv",
        "outputId": "e8212077-1f97-4394-a3e1-07ea7eb7ac75"
      },
      "execution_count": 42,
      "outputs": [
        {
          "output_type": "stream",
          "name": "stdout",
          "text": [
            "\u001b[H\u001b[2J"
          ]
        }
      ]
    },
    {
      "cell_type": "code",
      "execution_count": 43,
      "metadata": {
        "id": "-SdLJsexkV_t"
      },
      "outputs": [],
      "source": [
        "import pandas as pd\n",
        "import numpy as np\n",
        "\n",
        "df = pd.read_csv('tortilla_prices.csv')"
      ]
    },
    {
      "cell_type": "markdown",
      "source": [
        "## Data check"
      ],
      "metadata": {
        "id": "XopQsBrtjjsf"
      }
    },
    {
      "cell_type": "code",
      "source": [
        "df.tail()"
      ],
      "metadata": {
        "colab": {
          "base_uri": "https://localhost:8080/",
          "height": 310
        },
        "id": "u06fIvwOldqq",
        "outputId": "424bd5c3-551d-4778-8f30-8f849d825e14"
      },
      "execution_count": 44,
      "outputs": [
        {
          "output_type": "execute_result",
          "data": {
            "text/plain": [
              "            State           City  Year  Month  Day        Store type  \\\n",
              "280393   Veracruz  Coatzacoalcos  2024      4    8  Big Retail Store   \n",
              "280394   Veracruz       Veracruz  2024      4    8  Big Retail Store   \n",
              "280395   Veracruz         Xalapa  2024      4    8  Big Retail Store   \n",
              "280396    Yucatán         Mérida  2024      4    8  Big Retail Store   \n",
              "280397  Zacatecas      Zacatecas  2024      4    8  Big Retail Store   \n",
              "\n",
              "        Price per kilogram  \n",
              "280393                 NaN  \n",
              "280394                 NaN  \n",
              "280395                 NaN  \n",
              "280396                 NaN  \n",
              "280397                 NaN  "
            ],
            "text/html": [
              "\n",
              "  <div id=\"df-08f3e3d8-dc71-49ee-844d-99137f9bd770\" class=\"colab-df-container\">\n",
              "    <div>\n",
              "<style scoped>\n",
              "    .dataframe tbody tr th:only-of-type {\n",
              "        vertical-align: middle;\n",
              "    }\n",
              "\n",
              "    .dataframe tbody tr th {\n",
              "        vertical-align: top;\n",
              "    }\n",
              "\n",
              "    .dataframe thead th {\n",
              "        text-align: right;\n",
              "    }\n",
              "</style>\n",
              "<table border=\"1\" class=\"dataframe\">\n",
              "  <thead>\n",
              "    <tr style=\"text-align: right;\">\n",
              "      <th></th>\n",
              "      <th>State</th>\n",
              "      <th>City</th>\n",
              "      <th>Year</th>\n",
              "      <th>Month</th>\n",
              "      <th>Day</th>\n",
              "      <th>Store type</th>\n",
              "      <th>Price per kilogram</th>\n",
              "    </tr>\n",
              "  </thead>\n",
              "  <tbody>\n",
              "    <tr>\n",
              "      <th>280393</th>\n",
              "      <td>Veracruz</td>\n",
              "      <td>Coatzacoalcos</td>\n",
              "      <td>2024</td>\n",
              "      <td>4</td>\n",
              "      <td>8</td>\n",
              "      <td>Big Retail Store</td>\n",
              "      <td>NaN</td>\n",
              "    </tr>\n",
              "    <tr>\n",
              "      <th>280394</th>\n",
              "      <td>Veracruz</td>\n",
              "      <td>Veracruz</td>\n",
              "      <td>2024</td>\n",
              "      <td>4</td>\n",
              "      <td>8</td>\n",
              "      <td>Big Retail Store</td>\n",
              "      <td>NaN</td>\n",
              "    </tr>\n",
              "    <tr>\n",
              "      <th>280395</th>\n",
              "      <td>Veracruz</td>\n",
              "      <td>Xalapa</td>\n",
              "      <td>2024</td>\n",
              "      <td>4</td>\n",
              "      <td>8</td>\n",
              "      <td>Big Retail Store</td>\n",
              "      <td>NaN</td>\n",
              "    </tr>\n",
              "    <tr>\n",
              "      <th>280396</th>\n",
              "      <td>Yucatán</td>\n",
              "      <td>Mérida</td>\n",
              "      <td>2024</td>\n",
              "      <td>4</td>\n",
              "      <td>8</td>\n",
              "      <td>Big Retail Store</td>\n",
              "      <td>NaN</td>\n",
              "    </tr>\n",
              "    <tr>\n",
              "      <th>280397</th>\n",
              "      <td>Zacatecas</td>\n",
              "      <td>Zacatecas</td>\n",
              "      <td>2024</td>\n",
              "      <td>4</td>\n",
              "      <td>8</td>\n",
              "      <td>Big Retail Store</td>\n",
              "      <td>NaN</td>\n",
              "    </tr>\n",
              "  </tbody>\n",
              "</table>\n",
              "</div>\n",
              "    <div class=\"colab-df-buttons\">\n",
              "\n",
              "  <div class=\"colab-df-container\">\n",
              "    <button class=\"colab-df-convert\" onclick=\"convertToInteractive('df-08f3e3d8-dc71-49ee-844d-99137f9bd770')\"\n",
              "            title=\"Convert this dataframe to an interactive table.\"\n",
              "            style=\"display:none;\">\n",
              "\n",
              "  <svg xmlns=\"http://www.w3.org/2000/svg\" height=\"24px\" viewBox=\"0 -960 960 960\">\n",
              "    <path d=\"M120-120v-720h720v720H120Zm60-500h600v-160H180v160Zm220 220h160v-160H400v160Zm0 220h160v-160H400v160ZM180-400h160v-160H180v160Zm440 0h160v-160H620v160ZM180-180h160v-160H180v160Zm440 0h160v-160H620v160Z\"/>\n",
              "  </svg>\n",
              "    </button>\n",
              "\n",
              "  <style>\n",
              "    .colab-df-container {\n",
              "      display:flex;\n",
              "      gap: 12px;\n",
              "    }\n",
              "\n",
              "    .colab-df-convert {\n",
              "      background-color: #E8F0FE;\n",
              "      border: none;\n",
              "      border-radius: 50%;\n",
              "      cursor: pointer;\n",
              "      display: none;\n",
              "      fill: #1967D2;\n",
              "      height: 32px;\n",
              "      padding: 0 0 0 0;\n",
              "      width: 32px;\n",
              "    }\n",
              "\n",
              "    .colab-df-convert:hover {\n",
              "      background-color: #E2EBFA;\n",
              "      box-shadow: 0px 1px 2px rgba(60, 64, 67, 0.3), 0px 1px 3px 1px rgba(60, 64, 67, 0.15);\n",
              "      fill: #174EA6;\n",
              "    }\n",
              "\n",
              "    .colab-df-buttons div {\n",
              "      margin-bottom: 4px;\n",
              "    }\n",
              "\n",
              "    [theme=dark] .colab-df-convert {\n",
              "      background-color: #3B4455;\n",
              "      fill: #D2E3FC;\n",
              "    }\n",
              "\n",
              "    [theme=dark] .colab-df-convert:hover {\n",
              "      background-color: #434B5C;\n",
              "      box-shadow: 0px 1px 3px 1px rgba(0, 0, 0, 0.15);\n",
              "      filter: drop-shadow(0px 1px 2px rgba(0, 0, 0, 0.3));\n",
              "      fill: #FFFFFF;\n",
              "    }\n",
              "  </style>\n",
              "\n",
              "    <script>\n",
              "      const buttonEl =\n",
              "        document.querySelector('#df-08f3e3d8-dc71-49ee-844d-99137f9bd770 button.colab-df-convert');\n",
              "      buttonEl.style.display =\n",
              "        google.colab.kernel.accessAllowed ? 'block' : 'none';\n",
              "\n",
              "      async function convertToInteractive(key) {\n",
              "        const element = document.querySelector('#df-08f3e3d8-dc71-49ee-844d-99137f9bd770');\n",
              "        const dataTable =\n",
              "          await google.colab.kernel.invokeFunction('convertToInteractive',\n",
              "                                                    [key], {});\n",
              "        if (!dataTable) return;\n",
              "\n",
              "        const docLinkHtml = 'Like what you see? Visit the ' +\n",
              "          '<a target=\"_blank\" href=https://colab.research.google.com/notebooks/data_table.ipynb>data table notebook</a>'\n",
              "          + ' to learn more about interactive tables.';\n",
              "        element.innerHTML = '';\n",
              "        dataTable['output_type'] = 'display_data';\n",
              "        await google.colab.output.renderOutput(dataTable, element);\n",
              "        const docLink = document.createElement('div');\n",
              "        docLink.innerHTML = docLinkHtml;\n",
              "        element.appendChild(docLink);\n",
              "      }\n",
              "    </script>\n",
              "  </div>\n",
              "\n",
              "\n",
              "<div id=\"df-d009f165-aefc-43a7-9b60-507130e854fd\">\n",
              "  <button class=\"colab-df-quickchart\" onclick=\"quickchart('df-d009f165-aefc-43a7-9b60-507130e854fd')\"\n",
              "            title=\"Suggest charts\"\n",
              "            style=\"display:none;\">\n",
              "\n",
              "<svg xmlns=\"http://www.w3.org/2000/svg\" height=\"24px\"viewBox=\"0 0 24 24\"\n",
              "     width=\"24px\">\n",
              "    <g>\n",
              "        <path d=\"M19 3H5c-1.1 0-2 .9-2 2v14c0 1.1.9 2 2 2h14c1.1 0 2-.9 2-2V5c0-1.1-.9-2-2-2zM9 17H7v-7h2v7zm4 0h-2V7h2v10zm4 0h-2v-4h2v4z\"/>\n",
              "    </g>\n",
              "</svg>\n",
              "  </button>\n",
              "\n",
              "<style>\n",
              "  .colab-df-quickchart {\n",
              "      --bg-color: #E8F0FE;\n",
              "      --fill-color: #1967D2;\n",
              "      --hover-bg-color: #E2EBFA;\n",
              "      --hover-fill-color: #174EA6;\n",
              "      --disabled-fill-color: #AAA;\n",
              "      --disabled-bg-color: #DDD;\n",
              "  }\n",
              "\n",
              "  [theme=dark] .colab-df-quickchart {\n",
              "      --bg-color: #3B4455;\n",
              "      --fill-color: #D2E3FC;\n",
              "      --hover-bg-color: #434B5C;\n",
              "      --hover-fill-color: #FFFFFF;\n",
              "      --disabled-bg-color: #3B4455;\n",
              "      --disabled-fill-color: #666;\n",
              "  }\n",
              "\n",
              "  .colab-df-quickchart {\n",
              "    background-color: var(--bg-color);\n",
              "    border: none;\n",
              "    border-radius: 50%;\n",
              "    cursor: pointer;\n",
              "    display: none;\n",
              "    fill: var(--fill-color);\n",
              "    height: 32px;\n",
              "    padding: 0;\n",
              "    width: 32px;\n",
              "  }\n",
              "\n",
              "  .colab-df-quickchart:hover {\n",
              "    background-color: var(--hover-bg-color);\n",
              "    box-shadow: 0 1px 2px rgba(60, 64, 67, 0.3), 0 1px 3px 1px rgba(60, 64, 67, 0.15);\n",
              "    fill: var(--button-hover-fill-color);\n",
              "  }\n",
              "\n",
              "  .colab-df-quickchart-complete:disabled,\n",
              "  .colab-df-quickchart-complete:disabled:hover {\n",
              "    background-color: var(--disabled-bg-color);\n",
              "    fill: var(--disabled-fill-color);\n",
              "    box-shadow: none;\n",
              "  }\n",
              "\n",
              "  .colab-df-spinner {\n",
              "    border: 2px solid var(--fill-color);\n",
              "    border-color: transparent;\n",
              "    border-bottom-color: var(--fill-color);\n",
              "    animation:\n",
              "      spin 1s steps(1) infinite;\n",
              "  }\n",
              "\n",
              "  @keyframes spin {\n",
              "    0% {\n",
              "      border-color: transparent;\n",
              "      border-bottom-color: var(--fill-color);\n",
              "      border-left-color: var(--fill-color);\n",
              "    }\n",
              "    20% {\n",
              "      border-color: transparent;\n",
              "      border-left-color: var(--fill-color);\n",
              "      border-top-color: var(--fill-color);\n",
              "    }\n",
              "    30% {\n",
              "      border-color: transparent;\n",
              "      border-left-color: var(--fill-color);\n",
              "      border-top-color: var(--fill-color);\n",
              "      border-right-color: var(--fill-color);\n",
              "    }\n",
              "    40% {\n",
              "      border-color: transparent;\n",
              "      border-right-color: var(--fill-color);\n",
              "      border-top-color: var(--fill-color);\n",
              "    }\n",
              "    60% {\n",
              "      border-color: transparent;\n",
              "      border-right-color: var(--fill-color);\n",
              "    }\n",
              "    80% {\n",
              "      border-color: transparent;\n",
              "      border-right-color: var(--fill-color);\n",
              "      border-bottom-color: var(--fill-color);\n",
              "    }\n",
              "    90% {\n",
              "      border-color: transparent;\n",
              "      border-bottom-color: var(--fill-color);\n",
              "    }\n",
              "  }\n",
              "</style>\n",
              "\n",
              "  <script>\n",
              "    async function quickchart(key) {\n",
              "      const quickchartButtonEl =\n",
              "        document.querySelector('#' + key + ' button');\n",
              "      quickchartButtonEl.disabled = true;  // To prevent multiple clicks.\n",
              "      quickchartButtonEl.classList.add('colab-df-spinner');\n",
              "      try {\n",
              "        const charts = await google.colab.kernel.invokeFunction(\n",
              "            'suggestCharts', [key], {});\n",
              "      } catch (error) {\n",
              "        console.error('Error during call to suggestCharts:', error);\n",
              "      }\n",
              "      quickchartButtonEl.classList.remove('colab-df-spinner');\n",
              "      quickchartButtonEl.classList.add('colab-df-quickchart-complete');\n",
              "    }\n",
              "    (() => {\n",
              "      let quickchartButtonEl =\n",
              "        document.querySelector('#df-d009f165-aefc-43a7-9b60-507130e854fd button');\n",
              "      quickchartButtonEl.style.display =\n",
              "        google.colab.kernel.accessAllowed ? 'block' : 'none';\n",
              "    })();\n",
              "  </script>\n",
              "</div>\n",
              "\n",
              "    </div>\n",
              "  </div>\n"
            ],
            "application/vnd.google.colaboratory.intrinsic+json": {
              "type": "dataframe",
              "summary": "{\n  \"name\": \"df\",\n  \"rows\": 5,\n  \"fields\": [\n    {\n      \"column\": \"State\",\n      \"properties\": {\n        \"dtype\": \"string\",\n        \"num_unique_values\": 3,\n        \"samples\": [\n          \"Veracruz\",\n          \"Yucat\\u00e1n\",\n          \"Zacatecas\"\n        ],\n        \"semantic_type\": \"\",\n        \"description\": \"\"\n      }\n    },\n    {\n      \"column\": \"City\",\n      \"properties\": {\n        \"dtype\": \"string\",\n        \"num_unique_values\": 5,\n        \"samples\": [\n          \"Veracruz\",\n          \"Zacatecas\",\n          \"Xalapa\"\n        ],\n        \"semantic_type\": \"\",\n        \"description\": \"\"\n      }\n    },\n    {\n      \"column\": \"Year\",\n      \"properties\": {\n        \"dtype\": \"number\",\n        \"std\": 0,\n        \"min\": 2024,\n        \"max\": 2024,\n        \"num_unique_values\": 1,\n        \"samples\": [\n          2024\n        ],\n        \"semantic_type\": \"\",\n        \"description\": \"\"\n      }\n    },\n    {\n      \"column\": \"Month\",\n      \"properties\": {\n        \"dtype\": \"number\",\n        \"std\": 0,\n        \"min\": 4,\n        \"max\": 4,\n        \"num_unique_values\": 1,\n        \"samples\": [\n          4\n        ],\n        \"semantic_type\": \"\",\n        \"description\": \"\"\n      }\n    },\n    {\n      \"column\": \"Day\",\n      \"properties\": {\n        \"dtype\": \"number\",\n        \"std\": 0,\n        \"min\": 8,\n        \"max\": 8,\n        \"num_unique_values\": 1,\n        \"samples\": [\n          8\n        ],\n        \"semantic_type\": \"\",\n        \"description\": \"\"\n      }\n    },\n    {\n      \"column\": \"Store type\",\n      \"properties\": {\n        \"dtype\": \"category\",\n        \"num_unique_values\": 1,\n        \"samples\": [\n          \"Big Retail Store\"\n        ],\n        \"semantic_type\": \"\",\n        \"description\": \"\"\n      }\n    },\n    {\n      \"column\": \"Price per kilogram\",\n      \"properties\": {\n        \"dtype\": \"number\",\n        \"std\": null,\n        \"min\": null,\n        \"max\": null,\n        \"num_unique_values\": 0,\n        \"samples\": [],\n        \"semantic_type\": \"\",\n        \"description\": \"\"\n      }\n    }\n  ]\n}"
            }
          },
          "metadata": {},
          "execution_count": 44
        }
      ]
    },
    {
      "cell_type": "code",
      "source": [
        "df.info()"
      ],
      "metadata": {
        "colab": {
          "base_uri": "https://localhost:8080/"
        },
        "id": "aj_rD_9Vltfn",
        "outputId": "310ff059-a97c-469c-d832-34cb75bd1683"
      },
      "execution_count": 45,
      "outputs": [
        {
          "output_type": "stream",
          "name": "stdout",
          "text": [
            "<class 'pandas.core.frame.DataFrame'>\n",
            "RangeIndex: 280398 entries, 0 to 280397\n",
            "Data columns (total 7 columns):\n",
            " #   Column              Non-Null Count   Dtype  \n",
            "---  ------              --------------   -----  \n",
            " 0   State               280398 non-null  object \n",
            " 1   City                280398 non-null  object \n",
            " 2   Year                280398 non-null  int64  \n",
            " 3   Month               280398 non-null  int64  \n",
            " 4   Day                 280398 non-null  int64  \n",
            " 5   Store type          280398 non-null  object \n",
            " 6   Price per kilogram  273902 non-null  float64\n",
            "dtypes: float64(1), int64(3), object(3)\n",
            "memory usage: 15.0+ MB\n"
          ]
        }
      ]
    },
    {
      "cell_type": "code",
      "source": [
        "print(df.describe())"
      ],
      "metadata": {
        "colab": {
          "base_uri": "https://localhost:8080/"
        },
        "id": "XDQlzd5du2-A",
        "outputId": "71e45dca-496b-43ef-b0f1-a9e07ce4dd3b"
      },
      "execution_count": 46,
      "outputs": [
        {
          "output_type": "stream",
          "name": "stdout",
          "text": [
            "                Year          Month            Day  Price per kilogram\n",
            "count  280398.000000  280398.000000  280398.000000       273902.000000\n",
            "mean     2015.128114       6.368070      15.930645           12.092700\n",
            "std         4.942490       3.438586       8.757367            4.376921\n",
            "min      2007.000000       1.000000       1.000000            0.000000\n",
            "25%      2011.000000       3.000000       8.000000            9.570000\n",
            "50%      2015.000000       6.000000      16.000000           11.180000\n",
            "75%      2019.000000       9.000000      24.000000           14.000000\n",
            "max      2024.000000      12.000000      31.000000           31.000000\n"
          ]
        }
      ]
    },
    {
      "cell_type": "code",
      "source": [
        "df.isna().sum()"
      ],
      "metadata": {
        "colab": {
          "base_uri": "https://localhost:8080/"
        },
        "id": "-HNVKvj8o837",
        "outputId": "9646b023-1b80-45ea-fc94-b35605a5a4a3"
      },
      "execution_count": 47,
      "outputs": [
        {
          "output_type": "execute_result",
          "data": {
            "text/plain": [
              "State                    0\n",
              "City                     0\n",
              "Year                     0\n",
              "Month                    0\n",
              "Day                      0\n",
              "Store type               0\n",
              "Price per kilogram    6496\n",
              "dtype: int64"
            ]
          },
          "metadata": {},
          "execution_count": 47
        }
      ]
    },
    {
      "cell_type": "code",
      "source": [
        "6496/280398"
      ],
      "metadata": {
        "colab": {
          "base_uri": "https://localhost:8080/"
        },
        "id": "8XHjXp3gmbCO",
        "outputId": "ffeba31c-4170-49f6-ac56-d89395ad6243"
      },
      "execution_count": 48,
      "outputs": [
        {
          "output_type": "execute_result",
          "data": {
            "text/plain": [
              "0.02316706966526152"
            ]
          },
          "metadata": {},
          "execution_count": 48
        }
      ]
    },
    {
      "cell_type": "markdown",
      "source": [
        "Drop rows containing NAN"
      ],
      "metadata": {
        "id": "GxmIQBFQjHiq"
      }
    },
    {
      "cell_type": "code",
      "source": [
        "# Drop rows where 'Price per kilogram' is NaN\n",
        "df_clean = df.dropna(subset=['Price per kilogram'])"
      ],
      "metadata": {
        "id": "lGYwE3zZxF0y"
      },
      "execution_count": 49,
      "outputs": []
    },
    {
      "cell_type": "markdown",
      "source": [
        "Plot distribution of tortilla prices"
      ],
      "metadata": {
        "id": "wVf_ogDxjWXK"
      }
    },
    {
      "cell_type": "code",
      "source": [
        "import matplotlib.pyplot as plt\n",
        "\n",
        "plt.figure(figsize=(8, 4))\n",
        "plt.hist(df_clean['Price per kilogram'], bins=30, color='blue',alpha=0.7)\n",
        "plt.title('Distribution of Tortilla prices')\n",
        "plt.xlabel('Price')\n",
        "plt.ylabel('Frequency')\n",
        "plt.show()"
      ],
      "metadata": {
        "colab": {
          "base_uri": "https://localhost:8080/",
          "height": 364
        },
        "id": "nAfoSoSsx3XA",
        "outputId": "62519916-8ab6-4813-c1ce-cfd78853ed2f"
      },
      "execution_count": 50,
      "outputs": [
        {
          "output_type": "display_data",
          "data": {
            "text/plain": [
              "<Figure size 800x400 with 1 Axes>"
            ],
            "image/png": "[encoded data removed]"
          },
          "metadata": {}
        }
      ]
    },
    {
      "cell_type": "markdown",
      "source": [
        "## **1. Monthly price analysis**\n",
        "- Monthly price growth check\n",
        "- Seasonal growth check"
      ],
      "metadata": {
        "id": "HeuIXv5gwZlZ"
      }
    },
    {
      "cell_type": "markdown",
      "source": [
        "### Monthly price growth check"
      ],
      "metadata": {
        "id": "v2wF_8kukGpt"
      }
    },
    {
      "cell_type": "code",
      "source": [
        "# Group by month\n",
        "monthly_mean = df_clean.groupby(['Year', 'Month'])['Price per kilogram'].mean().reset_index()\n",
        "\n",
        "# Create a 'Date' column for plotting (using the first day of each month)\n",
        "monthly_mean['Date'] = pd.to_datetime(monthly_mean[['Year', 'Month']].assign(Day=1))"
      ],
      "metadata": {
        "id": "wxMeWzq1a2T7"
      },
      "execution_count": 51,
      "outputs": []
    },
    {
      "cell_type": "code",
      "source": [
        "import matplotlib.pyplot as plt\n",
        "\n",
        "# Plotting\n",
        "plt.figure(figsize=(8, 5))\n",
        "plt.scatter(monthly_mean['Date'], monthly_mean['Price per kilogram'], color='blue',s=5)\n",
        "plt.title('Mean Price per Kilogram of Tortillas by Month')\n",
        "plt.xlabel('Date')\n",
        "plt.ylabel('Mean Price per Kilogram')\n",
        "plt.grid(True)\n",
        "plt.show()"
      ],
      "metadata": {
        "colab": {
          "base_uri": "https://localhost:8080/",
          "height": 448
        },
        "id": "GGG9oL2DzWTE",
        "outputId": "6f07b608-58f9-40d6-8dd2-e3c1c10b7129"
      },
      "execution_count": 52,
      "outputs": [
        {
          "output_type": "display_data",
          "data": {
            "text/plain": [
              "<Figure size 800x500 with 1 Axes>"
            ],
            "image/png": "[encoded data removed]"
          },
          "metadata": {}
        }
      ]
    },
    {
      "cell_type": "markdown",
      "source": [
        "- The price is increasing. It seems that until 2020 the price is somewhat following a line, but after that it is rapidly increasing.\n",
        "\n",
        "- 2020 unusual price fluctuation happened."
      ],
      "metadata": {
        "id": "pTaV76Hb2DI7"
      }
    },
    {
      "cell_type": "code",
      "source": [
        "# Calculate the percentage change in price from month to month\n",
        "monthly_mean['Price Change (%)'] = monthly_mean['Price per kilogram'].pct_change() * 100\n",
        "\n",
        "# Extracting year 2020 for detailed analysis\n",
        "year_2020 = monthly_mean[monthly_mean['Date'].dt.year == 2020]\n",
        "\n",
        "# Plotting percentage change over the entire period\n",
        "plt.figure(figsize=(12, 6))\n",
        "plt.plot(monthly_mean['Date'], monthly_mean['Price Change (%)'], marker='o', linestyle='-', color='green')\n",
        "plt.title('Monthly Percentage Change in Tortilla Prices')\n",
        "plt.xlabel('Date')\n",
        "plt.ylabel('Percentage Change (%)')\n",
        "plt.grid(True)\n",
        "plt.show()\n",
        "\n",
        "# Plotting for 2020\n",
        "plt.figure(figsize=(12, 4))\n",
        "plt.plot(year_2020['Date'], year_2020['Price per kilogram'], marker='o', linestyle='-', color='red')\n",
        "plt.title('Monthly Tortilla Prices in 2020')\n",
        "plt.xlabel('Date')\n",
        "plt.ylabel('Price per Kilogram')\n",
        "plt.grid(True)\n",
        "plt.show()"
      ],
      "metadata": {
        "colab": {
          "base_uri": "https://localhost:8080/",
          "height": 602
        },
        "id": "vuqmYA1X0QPt",
        "outputId": "64296d22-0cb6-421f-c738-24edd7ed70dc"
      },
      "execution_count": 53,
      "outputs": [
        {
          "output_type": "display_data",
          "data": {
            "text/plain": [
              "<Figure size 1200x600 with 1 Axes>"
            ],
            "image/png": "[encoded data removed]"
          },
          "metadata": {}
        },
        {
          "output_type": "display_data",
          "data": {
            "text/plain": [
              "<Figure size 1200x400 with 1 Axes>"
            ],
            "image/png": "[encoded data removed]"
          },
          "metadata": {}
        }
      ]
    },
    {
      "cell_type": "markdown",
      "source": [
        "- Identifying Growth and Decline Phases:\n",
        "During the Covid period(2020 to 2023), price change was biger than(2013 to 2020).\n",
        "- In 2020 there is a significant drop in price"
      ],
      "metadata": {
        "id": "5f6SQDep4E_3"
      }
    },
    {
      "cell_type": "markdown",
      "source": [
        "##**2. Seasonal price distribution**"
      ],
      "metadata": {
        "id": "QKvpZDVEj8au"
      }
    },
    {
      "cell_type": "code",
      "source": [
        "# Assigning season to month\n",
        "month_to_season = {\n",
        "    1: 'Winter', 2: 'Winter', 3: 'Spring',\n",
        "    4: 'Spring', 5: 'Spring', 6: 'Summer',\n",
        "    7: 'Summer', 8: 'Summer', 9: 'Fall',\n",
        "    10: 'Fall', 11: 'Fall', 12: 'Winter'\n",
        "}\n",
        "\n",
        "# Add a 'Season' column to the DataFrame\n",
        "monthly_mean['Season'] = monthly_mean['Date'].dt.month.map(month_to_season)\n",
        "\n",
        "# Group by Year and Season, then calculate the mean\n",
        "seasonal_mean = monthly_mean.groupby(['Year', 'Season'])['Price per kilogram'].mean().reset_index()\n",
        "\n",
        "# Map seasons to a specific month for plotting (middle month of each season)\n",
        "season_to_month = {\n",
        "    'Winter': '01-15', # January 15\n",
        "    'Spring': '04-15', # April 15\n",
        "    'Summer': '07-15', # July 15\n",
        "    'Fall': '10-15'   # October 15\n",
        "}\n",
        "\n",
        "# Create a 'Date' string by merging Year with the representative month\n",
        "seasonal_mean['Date'] = seasonal_mean['Year'].astype(str) + '-' + seasonal_mean['Season'].map(season_to_month)\n",
        "\n",
        "# Convert 'Date' to datetime\n",
        "seasonal_mean['Date'] = pd.to_datetime(seasonal_mean['Date'])\n",
        "\n",
        "seasonal_mean_pivot = seasonal_mean.pivot(index='Year', columns='Season', values='Price per kilogram')\n",
        "\n",
        "# Plotting each season as a different line\n",
        "plt.figure(figsize=(12, 6))\n",
        "for season in ['Winter', 'Spring', 'Summer', 'Fall']:\n",
        "    plt.plot(seasonal_mean_pivot.index, seasonal_mean_pivot[season], marker='o', linestyle='-', label=season)\n",
        "\n",
        "plt.title('Seasonal Mean Prices of Tortillas Over Years')\n",
        "plt.xlabel('Year')\n",
        "plt.ylabel('Mean Price per Kilogram ($)')\n",
        "plt.grid(True)\n",
        "plt.legend(title='Season')\n",
        "plt.show()\n"
      ],
      "metadata": {
        "colab": {
          "base_uri": "https://localhost:8080/",
          "height": 362
        },
        "id": "MspNWVgQ_P3v",
        "outputId": "44fb8f06-c934-4871-e514-6d2877c342f3"
      },
      "execution_count": 54,
      "outputs": [
        {
          "output_type": "display_data",
          "data": {
            "text/plain": [
              "<Figure size 1200x600 with 1 Axes>"
            ],
            "image/png": "[encoded data removed]"
          },
          "metadata": {}
        }
      ]
    },
    {
      "cell_type": "markdown",
      "source": [
        "- The prices of tortilla seems to be quite similar between seasons, but generally the prices are high in the fall and low at spring."
      ],
      "metadata": {
        "id": "aA7EYfwZa-tt"
      }
    },
    {
      "cell_type": "markdown",
      "source": [
        "## **3. Compare prices by store type**"
      ],
      "metadata": {
        "id": "64C1Sq8ybmEK"
      }
    },
    {
      "cell_type": "code",
      "source": [
        "df_clean['Date'] = pd.to_datetime(df_clean[['Year', 'Month', 'Day']])\n",
        "store_prices = df_clean.groupby(['Date', 'Store type'])['Price per kilogram'].mean().reset_index()\n",
        "\n",
        "# Pivot data for plotting\n",
        "store_prices_pivot = store_prices.pivot(index='Date', columns='Store type', values='Price per kilogram')"
      ],
      "metadata": {
        "id": "iWpHqWzxes8D"
      },
      "execution_count": 55,
      "outputs": []
    },
    {
      "cell_type": "code",
      "source": [
        "store_prices_pivot"
      ],
      "metadata": {
        "colab": {
          "base_uri": "https://localhost:8080/",
          "height": 455
        },
        "id": "GFjXKMFig-ll",
        "outputId": "10c1b968-b755-4701-8d93-df86465107d6"
      },
      "execution_count": 56,
      "outputs": [
        {
          "output_type": "execute_result",
          "data": {
            "text/plain": [
              "Store type  Big Retail Store  Mom and Pop Store\n",
              "Date                                           \n",
              "2007-01-10          5.707895           9.283421\n",
              "2007-01-12          5.655750           9.525000\n",
              "2007-01-15          5.540750           9.455610\n",
              "2007-01-16          5.559756           9.495122\n",
              "2007-01-17          5.585366           9.531707\n",
              "...                      ...                ...\n",
              "2024-03-27         14.370741          24.580370\n",
              "2024-04-01         14.379259          24.589815\n",
              "2024-04-03         14.377593          24.584815\n",
              "2024-04-05         14.391481          24.591481\n",
              "2024-04-08         15.170000          25.900000\n",
              "\n",
              "[2603 rows x 2 columns]"
            ],
            "text/html": [
              "\n",
              "  <div id=\"df-ffb82433-df0b-4523-b6ca-eb5e362f0947\" class=\"colab-df-container\">\n",
              "    <div>\n",
              "<style scoped>\n",
              "    .dataframe tbody tr th:only-of-type {\n",
              "        vertical-align: middle;\n",
              "    }\n",
              "\n",
              "    .dataframe tbody tr th {\n",
              "        vertical-align: top;\n",
              "    }\n",
              "\n",
              "    .dataframe thead th {\n",
              "        text-align: right;\n",
              "    }\n",
              "</style>\n",
              "<table border=\"1\" class=\"dataframe\">\n",
              "  <thead>\n",
              "    <tr style=\"text-align: right;\">\n",
              "      <th>Store type</th>\n",
              "      <th>Big Retail Store</th>\n",
              "      <th>Mom and Pop Store</th>\n",
              "    </tr>\n",
              "    <tr>\n",
              "      <th>Date</th>\n",
              "      <th></th>\n",
              "      <th></th>\n",
              "    </tr>\n",
              "  </thead>\n",
              "  <tbody>\n",
              "    <tr>\n",
              "      <th>2007-01-10</th>\n",
              "      <td>5.707895</td>\n",
              "      <td>9.283421</td>\n",
              "    </tr>\n",
              "    <tr>\n",
              "      <th>2007-01-12</th>\n",
              "      <td>5.655750</td>\n",
              "      <td>9.525000</td>\n",
              "    </tr>\n",
              "    <tr>\n",
              "      <th>2007-01-15</th>\n",
              "      <td>5.540750</td>\n",
              "      <td>9.455610</td>\n",
              "    </tr>\n",
              "    <tr>\n",
              "      <th>2007-01-16</th>\n",
              "      <td>5.559756</td>\n",
              "      <td>9.495122</td>\n",
              "    </tr>\n",
              "    <tr>\n",
              "      <th>2007-01-17</th>\n",
              "      <td>5.585366</td>\n",
              "      <td>9.531707</td>\n",
              "    </tr>\n",
              "    <tr>\n",
              "      <th>...</th>\n",
              "      <td>...</td>\n",
              "      <td>...</td>\n",
              "    </tr>\n",
              "    <tr>\n",
              "      <th>2024-03-27</th>\n",
              "      <td>14.370741</td>\n",
              "      <td>24.580370</td>\n",
              "    </tr>\n",
              "    <tr>\n",
              "      <th>2024-04-01</th>\n",
              "      <td>14.379259</td>\n",
              "      <td>24.589815</td>\n",
              "    </tr>\n",
              "    <tr>\n",
              "      <th>2024-04-03</th>\n",
              "      <td>14.377593</td>\n",
              "      <td>24.584815</td>\n",
              "    </tr>\n",
              "    <tr>\n",
              "      <th>2024-04-05</th>\n",
              "      <td>14.391481</td>\n",
              "      <td>24.591481</td>\n",
              "    </tr>\n",
              "    <tr>\n",
              "      <th>2024-04-08</th>\n",
              "      <td>15.170000</td>\n",
              "      <td>25.900000</td>\n",
              "    </tr>\n",
              "  </tbody>\n",
              "</table>\n",
              "<p>2603 rows × 2 columns</p>\n",
              "</div>\n",
              "    <div class=\"colab-df-buttons\">\n",
              "\n",
              "  <div class=\"colab-df-container\">\n",
              "    <button class=\"colab-df-convert\" onclick=\"convertToInteractive('df-ffb82433-df0b-4523-b6ca-eb5e362f0947')\"\n",
              "            title=\"Convert this dataframe to an interactive table.\"\n",
              "            style=\"display:none;\">\n",
              "\n",
              "  <svg xmlns=\"http://www.w3.org/2000/svg\" height=\"24px\" viewBox=\"0 -960 960 960\">\n",
              "    <path d=\"M120-120v-720h720v720H120Zm60-500h600v-160H180v160Zm220 220h160v-160H400v160Zm0 220h160v-160H400v160ZM180-400h160v-160H180v160Zm440 0h160v-160H620v160ZM180-180h160v-160H180v160Zm440 0h160v-160H620v160Z\"/>\n",
              "  </svg>\n",
              "    </button>\n",
              "\n",
              "  <style>\n",
              "    .colab-df-container {\n",
              "      display:flex;\n",
              "      gap: 12px;\n",
              "    }\n",
              "\n",
              "    .colab-df-convert {\n",
              "      background-color: #E8F0FE;\n",
              "      border: none;\n",
              "      border-radius: 50%;\n",
              "      cursor: pointer;\n",
              "      display: none;\n",
              "      fill: #1967D2;\n",
              "      height: 32px;\n",
              "      padding: 0 0 0 0;\n",
              "      width: 32px;\n",
              "    }\n",
              "\n",
              "    .colab-df-convert:hover {\n",
              "      background-color: #E2EBFA;\n",
              "      box-shadow: 0px 1px 2px rgba(60, 64, 67, 0.3), 0px 1px 3px 1px rgba(60, 64, 67, 0.15);\n",
              "      fill: #174EA6;\n",
              "    }\n",
              "\n",
              "    .colab-df-buttons div {\n",
              "      margin-bottom: 4px;\n",
              "    }\n",
              "\n",
              "    [theme=dark] .colab-df-convert {\n",
              "      background-color: #3B4455;\n",
              "      fill: #D2E3FC;\n",
              "    }\n",
              "\n",
              "    [theme=dark] .colab-df-convert:hover {\n",
              "      background-color: #434B5C;\n",
              "      box-shadow: 0px 1px 3px 1px rgba(0, 0, 0, 0.15);\n",
              "      filter: drop-shadow(0px 1px 2px rgba(0, 0, 0, 0.3));\n",
              "      fill: #FFFFFF;\n",
              "    }\n",
              "  </style>\n",
              "\n",
              "    <script>\n",
              "      const buttonEl =\n",
              "        document.querySelector('#df-ffb82433-df0b-4523-b6ca-eb5e362f0947 button.colab-df-convert');\n",
              "      buttonEl.style.display =\n",
              "        google.colab.kernel.accessAllowed ? 'block' : 'none';\n",
              "\n",
              "      async function convertToInteractive(key) {\n",
              "        const element = document.querySelector('#df-ffb82433-df0b-4523-b6ca-eb5e362f0947');\n",
              "        const dataTable =\n",
              "          await google.colab.kernel.invokeFunction('convertToInteractive',\n",
              "                                                    [key], {});\n",
              "        if (!dataTable) return;\n",
              "\n",
              "        const docLinkHtml = 'Like what you see? Visit the ' +\n",
              "          '<a target=\"_blank\" href=https://colab.research.google.com/notebooks/data_table.ipynb>data table notebook</a>'\n",
              "          + ' to learn more about interactive tables.';\n",
              "        element.innerHTML = '';\n",
              "        dataTable['output_type'] = 'display_data';\n",
              "        await google.colab.output.renderOutput(dataTable, element);\n",
              "        const docLink = document.createElement('div');\n",
              "        docLink.innerHTML = docLinkHtml;\n",
              "        element.appendChild(docLink);\n",
              "      }\n",
              "    </script>\n",
              "  </div>\n",
              "\n",
              "\n",
              "<div id=\"df-c01b5efe-8d51-4aa0-8d90-55974404a1be\">\n",
              "  <button class=\"colab-df-quickchart\" onclick=\"quickchart('df-c01b5efe-8d51-4aa0-8d90-55974404a1be')\"\n",
              "            title=\"Suggest charts\"\n",
              "            style=\"display:none;\">\n",
              "\n",
              "<svg xmlns=\"http://www.w3.org/2000/svg\" height=\"24px\"viewBox=\"0 0 24 24\"\n",
              "     width=\"24px\">\n",
              "    <g>\n",
              "        <path d=\"M19 3H5c-1.1 0-2 .9-2 2v14c0 1.1.9 2 2 2h14c1.1 0 2-.9 2-2V5c0-1.1-.9-2-2-2zM9 17H7v-7h2v7zm4 0h-2V7h2v10zm4 0h-2v-4h2v4z\"/>\n",
              "    </g>\n",
              "</svg>\n",
              "  </button>\n",
              "\n",
              "<style>\n",
              "  .colab-df-quickchart {\n",
              "      --bg-color: #E8F0FE;\n",
              "      --fill-color: #1967D2;\n",
              "      --hover-bg-color: #E2EBFA;\n",
              "      --hover-fill-color: #174EA6;\n",
              "      --disabled-fill-color: #AAA;\n",
              "      --disabled-bg-color: #DDD;\n",
              "  }\n",
              "\n",
              "  [theme=dark] .colab-df-quickchart {\n",
              "      --bg-color: #3B4455;\n",
              "      --fill-color: #D2E3FC;\n",
              "      --hover-bg-color: #434B5C;\n",
              "      --hover-fill-color: #FFFFFF;\n",
              "      --disabled-bg-color: #3B4455;\n",
              "      --disabled-fill-color: #666;\n",
              "  }\n",
              "\n",
              "  .colab-df-quickchart {\n",
              "    background-color: var(--bg-color);\n",
              "    border: none;\n",
              "    border-radius: 50%;\n",
              "    cursor: pointer;\n",
              "    display: none;\n",
              "    fill: var(--fill-color);\n",
              "    height: 32px;\n",
              "    padding: 0;\n",
              "    width: 32px;\n",
              "  }\n",
              "\n",
              "  .colab-df-quickchart:hover {\n",
              "    background-color: var(--hover-bg-color);\n",
              "    box-shadow: 0 1px 2px rgba(60, 64, 67, 0.3), 0 1px 3px 1px rgba(60, 64, 67, 0.15);\n",
              "    fill: var(--button-hover-fill-color);\n",
              "  }\n",
              "\n",
              "  .colab-df-quickchart-complete:disabled,\n",
              "  .colab-df-quickchart-complete:disabled:hover {\n",
              "    background-color: var(--disabled-bg-color);\n",
              "    fill: var(--disabled-fill-color);\n",
              "    box-shadow: none;\n",
              "  }\n",
              "\n",
              "  .colab-df-spinner {\n",
              "    border: 2px solid var(--fill-color);\n",
              "    border-color: transparent;\n",
              "    border-bottom-color: var(--fill-color);\n",
              "    animation:\n",
              "      spin 1s steps(1) infinite;\n",
              "  }\n",
              "\n",
              "  @keyframes spin {\n",
              "    0% {\n",
              "      border-color: transparent;\n",
              "      border-bottom-color: var(--fill-color);\n",
              "      border-left-color: var(--fill-color);\n",
              "    }\n",
              "    20% {\n",
              "      border-color: transparent;\n",
              "      border-left-color: var(--fill-color);\n",
              "      border-top-color: var(--fill-color);\n",
              "    }\n",
              "    30% {\n",
              "      border-color: transparent;\n",
              "      border-left-color: var(--fill-color);\n",
              "      border-top-color: var(--fill-color);\n",
              "      border-right-color: var(--fill-color);\n",
              "    }\n",
              "    40% {\n",
              "      border-color: transparent;\n",
              "      border-right-color: var(--fill-color);\n",
              "      border-top-color: var(--fill-color);\n",
              "    }\n",
              "    60% {\n",
              "      border-color: transparent;\n",
              "      border-right-color: var(--fill-color);\n",
              "    }\n",
              "    80% {\n",
              "      border-color: transparent;\n",
              "      border-right-color: var(--fill-color);\n",
              "      border-bottom-color: var(--fill-color);\n",
              "    }\n",
              "    90% {\n",
              "      border-color: transparent;\n",
              "      border-bottom-color: var(--fill-color);\n",
              "    }\n",
              "  }\n",
              "</style>\n",
              "\n",
              "  <script>\n",
              "    async function quickchart(key) {\n",
              "      const quickchartButtonEl =\n",
              "        document.querySelector('#' + key + ' button');\n",
              "      quickchartButtonEl.disabled = true;  // To prevent multiple clicks.\n",
              "      quickchartButtonEl.classList.add('colab-df-spinner');\n",
              "      try {\n",
              "        const charts = await google.colab.kernel.invokeFunction(\n",
              "            'suggestCharts', [key], {});\n",
              "      } catch (error) {\n",
              "        console.error('Error during call to suggestCharts:', error);\n",
              "      }\n",
              "      quickchartButtonEl.classList.remove('colab-df-spinner');\n",
              "      quickchartButtonEl.classList.add('colab-df-quickchart-complete');\n",
              "    }\n",
              "    (() => {\n",
              "      let quickchartButtonEl =\n",
              "        document.querySelector('#df-c01b5efe-8d51-4aa0-8d90-55974404a1be button');\n",
              "      quickchartButtonEl.style.display =\n",
              "        google.colab.kernel.accessAllowed ? 'block' : 'none';\n",
              "    })();\n",
              "  </script>\n",
              "</div>\n",
              "\n",
              "  <div id=\"id_2d5b2512-9c2f-49e7-9ea5-be9f4bcdfb06\">\n",
              "    <style>\n",
              "      .colab-df-generate {\n",
              "        background-color: #E8F0FE;\n",
              "        border: none;\n",
              "        border-radius: 50%;\n",
              "        cursor: pointer;\n",
              "        display: none;\n",
              "        fill: #1967D2;\n",
              "        height: 32px;\n",
              "        padding: 0 0 0 0;\n",
              "        width: 32px;\n",
              "      }\n",
              "\n",
              "      .colab-df-generate:hover {\n",
              "        background-color: #E2EBFA;\n",
              "        box-shadow: 0px 1px 2px rgba(60, 64, 67, 0.3), 0px 1px 3px 1px rgba(60, 64, 67, 0.15);\n",
              "        fill: #174EA6;\n",
              "      }\n",
              "\n",
              "      [theme=dark] .colab-df-generate {\n",
              "        background-color: #3B4455;\n",
              "        fill: #D2E3FC;\n",
              "      }\n",
              "\n",
              "      [theme=dark] .colab-df-generate:hover {\n",
              "        background-color: #434B5C;\n",
              "        box-shadow: 0px 1px 3px 1px rgba(0, 0, 0, 0.15);\n",
              "        filter: drop-shadow(0px 1px 2px rgba(0, 0, 0, 0.3));\n",
              "        fill: #FFFFFF;\n",
              "      }\n",
              "    </style>\n",
              "    <button class=\"colab-df-generate\" onclick=\"generateWithVariable('store_prices_pivot')\"\n",
              "            title=\"Generate code using this dataframe.\"\n",
              "            style=\"display:none;\">\n",
              "\n",
              "  <svg xmlns=\"http://www.w3.org/2000/svg\" height=\"24px\"viewBox=\"0 0 24 24\"\n",
              "       width=\"24px\">\n",
              "    <path d=\"M7,19H8.4L18.45,9,17,7.55,7,17.6ZM5,21V16.75L18.45,3.32a2,2,0,0,1,2.83,0l1.4,1.43a1.91,1.91,0,0,1,.58,1.4,1.91,1.91,0,0,1-.58,1.4L9.25,21ZM18.45,9,17,7.55Zm-12,3A5.31,5.31,0,0,0,4.9,8.1,5.31,5.31,0,0,0,1,6.5,5.31,5.31,0,0,0,4.9,4.9,5.31,5.31,0,0,0,6.5,1,5.31,5.31,0,0,0,8.1,4.9,5.31,5.31,0,0,0,12,6.5,5.46,5.46,0,0,0,6.5,12Z\"/>\n",
              "  </svg>\n",
              "    </button>\n",
              "    <script>\n",
              "      (() => {\n",
              "      const buttonEl =\n",
              "        document.querySelector('#id_2d5b2512-9c2f-49e7-9ea5-be9f4bcdfb06 button.colab-df-generate');\n",
              "      buttonEl.style.display =\n",
              "        google.colab.kernel.accessAllowed ? 'block' : 'none';\n",
              "\n",
              "      buttonEl.onclick = () => {\n",
              "        google.colab.notebook.generateWithVariable('store_prices_pivot');\n",
              "      }\n",
              "      })();\n",
              "    </script>\n",
              "  </div>\n",
              "\n",
              "    </div>\n",
              "  </div>\n"
            ],
            "application/vnd.google.colaboratory.intrinsic+json": {
              "type": "dataframe",
              "variable_name": "store_prices_pivot",
              "summary": "{\n  \"name\": \"store_prices_pivot\",\n  \"rows\": 2603,\n  \"fields\": [\n    {\n      \"column\": \"Date\",\n      \"properties\": {\n        \"dtype\": \"date\",\n        \"min\": \"2007-01-10 00:00:00\",\n        \"max\": \"2024-04-08 00:00:00\",\n        \"num_unique_values\": 2603,\n        \"samples\": [\n          \"2012-03-02 00:00:00\",\n          \"2013-04-24 00:00:00\",\n          \"2019-01-16 00:00:00\"\n        ],\n        \"semantic_type\": \"\",\n        \"description\": \"\"\n      }\n    },\n    {\n      \"column\": \"Big Retail Store\",\n      \"properties\": {\n        \"dtype\": \"number\",\n        \"std\": 2.5039511939791326,\n        \"min\": 5.436829268292683,\n        \"max\": 15.17,\n        \"num_unique_values\": 2310,\n        \"samples\": [\n          11.110638297872342,\n          6.973846153846154,\n          10.397222222222224\n        ],\n        \"semantic_type\": \"\",\n        \"description\": \"\"\n      }\n    },\n    {\n      \"column\": \"Mom and Pop Store\",\n      \"properties\": {\n        \"dtype\": \"number\",\n        \"std\": 4.13147728653704,\n        \"min\": 8.886603773584905,\n        \"max\": 25.9,\n        \"num_unique_values\": 1589,\n        \"samples\": [\n          16.15245283018868,\n          10.852075471698113,\n          24.094905660377357\n        ],\n        \"semantic_type\": \"\",\n        \"description\": \"\"\n      }\n    }\n  ]\n}"
            }
          },
          "metadata": {},
          "execution_count": 56
        }
      ]
    },
    {
      "cell_type": "code",
      "source": [
        "store_prices_pivot['ratio'] = store_prices_pivot['Mom and Pop Store']/store_prices_pivot['Big Retail Store']\n",
        "store_prices_pivot"
      ],
      "metadata": {
        "colab": {
          "base_uri": "https://localhost:8080/",
          "height": 455
        },
        "id": "V4_5WGdV3iJB",
        "outputId": "d0e11eb7-8223-43b8-cafc-9eac1e3cc7a0"
      },
      "execution_count": 57,
      "outputs": [
        {
          "output_type": "execute_result",
          "data": {
            "text/plain": [
              "Store type  Big Retail Store  Mom and Pop Store     ratio\n",
              "Date                                                     \n",
              "2007-01-10          5.707895           9.283421  1.626418\n",
              "2007-01-12          5.655750           9.525000  1.684127\n",
              "2007-01-15          5.540750           9.455610  1.706558\n",
              "2007-01-16          5.559756           9.495122  1.707831\n",
              "2007-01-17          5.585366           9.531707  1.706550\n",
              "...                      ...                ...       ...\n",
              "2024-03-27         14.370741          24.580370  1.710446\n",
              "2024-04-01         14.379259          24.589815  1.710089\n",
              "2024-04-03         14.377593          24.584815  1.709940\n",
              "2024-04-05         14.391481          24.591481  1.708753\n",
              "2024-04-08         15.170000          25.900000  1.707317\n",
              "\n",
              "[2603 rows x 3 columns]"
            ],
            "text/html": [
              "\n",
              "  <div id=\"df-63f345ba-e465-44ef-8ade-f931e2c71602\" class=\"colab-df-container\">\n",
              "    <div>\n",
              "<style scoped>\n",
              "    .dataframe tbody tr th:only-of-type {\n",
              "        vertical-align: middle;\n",
              "    }\n",
              "\n",
              "    .dataframe tbody tr th {\n",
              "        vertical-align: top;\n",
              "    }\n",
              "\n",
              "    .dataframe thead th {\n",
              "        text-align: right;\n",
              "    }\n",
              "</style>\n",
              "<table border=\"1\" class=\"dataframe\">\n",
              "  <thead>\n",
              "    <tr style=\"text-align: right;\">\n",
              "      <th>Store type</th>\n",
              "      <th>Big Retail Store</th>\n",
              "      <th>Mom and Pop Store</th>\n",
              "      <th>ratio</th>\n",
              "    </tr>\n",
              "    <tr>\n",
              "      <th>Date</th>\n",
              "      <th></th>\n",
              "      <th></th>\n",
              "      <th></th>\n",
              "    </tr>\n",
              "  </thead>\n",
              "  <tbody>\n",
              "    <tr>\n",
              "      <th>2007-01-10</th>\n",
              "      <td>5.707895</td>\n",
              "      <td>9.283421</td>\n",
              "      <td>1.626418</td>\n",
              "    </tr>\n",
              "    <tr>\n",
              "      <th>2007-01-12</th>\n",
              "      <td>5.655750</td>\n",
              "      <td>9.525000</td>\n",
              "      <td>1.684127</td>\n",
              "    </tr>\n",
              "    <tr>\n",
              "      <th>2007-01-15</th>\n",
              "      <td>5.540750</td>\n",
              "      <td>9.455610</td>\n",
              "      <td>1.706558</td>\n",
              "    </tr>\n",
              "    <tr>\n",
              "      <th>2007-01-16</th>\n",
              "      <td>5.559756</td>\n",
              "      <td>9.495122</td>\n",
              "      <td>1.707831</td>\n",
              "    </tr>\n",
              "    <tr>\n",
              "      <th>2007-01-17</th>\n",
              "      <td>5.585366</td>\n",
              "      <td>9.531707</td>\n",
              "      <td>1.706550</td>\n",
              "    </tr>\n",
              "    <tr>\n",
              "      <th>...</th>\n",
              "      <td>...</td>\n",
              "      <td>...</td>\n",
              "      <td>...</td>\n",
              "    </tr>\n",
              "    <tr>\n",
              "      <th>2024-03-27</th>\n",
              "      <td>14.370741</td>\n",
              "      <td>24.580370</td>\n",
              "      <td>1.710446</td>\n",
              "    </tr>\n",
              "    <tr>\n",
              "      <th>2024-04-01</th>\n",
              "      <td>14.379259</td>\n",
              "      <td>24.589815</td>\n",
              "      <td>1.710089</td>\n",
              "    </tr>\n",
              "    <tr>\n",
              "      <th>2024-04-03</th>\n",
              "      <td>14.377593</td>\n",
              "      <td>24.584815</td>\n",
              "      <td>1.709940</td>\n",
              "    </tr>\n",
              "    <tr>\n",
              "      <th>2024-04-05</th>\n",
              "      <td>14.391481</td>\n",
              "      <td>24.591481</td>\n",
              "      <td>1.708753</td>\n",
              "    </tr>\n",
              "    <tr>\n",
              "      <th>2024-04-08</th>\n",
              "      <td>15.170000</td>\n",
              "      <td>25.900000</td>\n",
              "      <td>1.707317</td>\n",
              "    </tr>\n",
              "  </tbody>\n",
              "</table>\n",
              "<p>2603 rows × 3 columns</p>\n",
              "</div>\n",
              "    <div class=\"colab-df-buttons\">\n",
              "\n",
              "  <div class=\"colab-df-container\">\n",
              "    <button class=\"colab-df-convert\" onclick=\"convertToInteractive('df-63f345ba-e465-44ef-8ade-f931e2c71602')\"\n",
              "            title=\"Convert this dataframe to an interactive table.\"\n",
              "            style=\"display:none;\">\n",
              "\n",
              "  <svg xmlns=\"http://www.w3.org/2000/svg\" height=\"24px\" viewBox=\"0 -960 960 960\">\n",
              "    <path d=\"M120-120v-720h720v720H120Zm60-500h600v-160H180v160Zm220 220h160v-160H400v160Zm0 220h160v-160H400v160ZM180-400h160v-160H180v160Zm440 0h160v-160H620v160ZM180-180h160v-160H180v160Zm440 0h160v-160H620v160Z\"/>\n",
              "  </svg>\n",
              "    </button>\n",
              "\n",
              "  <style>\n",
              "    .colab-df-container {\n",
              "      display:flex;\n",
              "      gap: 12px;\n",
              "    }\n",
              "\n",
              "    .colab-df-convert {\n",
              "      background-color: #E8F0FE;\n",
              "      border: none;\n",
              "      border-radius: 50%;\n",
              "      cursor: pointer;\n",
              "      display: none;\n",
              "      fill: #1967D2;\n",
              "      height: 32px;\n",
              "      padding: 0 0 0 0;\n",
              "      width: 32px;\n",
              "    }\n",
              "\n",
              "    .colab-df-convert:hover {\n",
              "      background-color: #E2EBFA;\n",
              "      box-shadow: 0px 1px 2px rgba(60, 64, 67, 0.3), 0px 1px 3px 1px rgba(60, 64, 67, 0.15);\n",
              "      fill: #174EA6;\n",
              "    }\n",
              "\n",
              "    .colab-df-buttons div {\n",
              "      margin-bottom: 4px;\n",
              "    }\n",
              "\n",
              "    [theme=dark] .colab-df-convert {\n",
              "      background-color: #3B4455;\n",
              "      fill: #D2E3FC;\n",
              "    }\n",
              "\n",
              "    [theme=dark] .colab-df-convert:hover {\n",
              "      background-color: #434B5C;\n",
              "      box-shadow: 0px 1px 3px 1px rgba(0, 0, 0, 0.15);\n",
              "      filter: drop-shadow(0px 1px 2px rgba(0, 0, 0, 0.3));\n",
              "      fill: #FFFFFF;\n",
              "    }\n",
              "  </style>\n",
              "\n",
              "    <script>\n",
              "      const buttonEl =\n",
              "        document.querySelector('#df-63f345ba-e465-44ef-8ade-f931e2c71602 button.colab-df-convert');\n",
              "      buttonEl.style.display =\n",
              "        google.colab.kernel.accessAllowed ? 'block' : 'none';\n",
              "\n",
              "      async function convertToInteractive(key) {\n",
              "        const element = document.querySelector('#df-63f345ba-e465-44ef-8ade-f931e2c71602');\n",
              "        const dataTable =\n",
              "          await google.colab.kernel.invokeFunction('convertToInteractive',\n",
              "                                                    [key], {});\n",
              "        if (!dataTable) return;\n",
              "\n",
              "        const docLinkHtml = 'Like what you see? Visit the ' +\n",
              "          '<a target=\"_blank\" href=https://colab.research.google.com/notebooks/data_table.ipynb>data table notebook</a>'\n",
              "          + ' to learn more about interactive tables.';\n",
              "        element.innerHTML = '';\n",
              "        dataTable['output_type'] = 'display_data';\n",
              "        await google.colab.output.renderOutput(dataTable, element);\n",
              "        const docLink = document.createElement('div');\n",
              "        docLink.innerHTML = docLinkHtml;\n",
              "        element.appendChild(docLink);\n",
              "      }\n",
              "    </script>\n",
              "  </div>\n",
              "\n",
              "\n",
              "<div id=\"df-87462fcb-0087-4a61-973c-f5d85c117bcd\">\n",
              "  <button class=\"colab-df-quickchart\" onclick=\"quickchart('df-87462fcb-0087-4a61-973c-f5d85c117bcd')\"\n",
              "            title=\"Suggest charts\"\n",
              "            style=\"display:none;\">\n",
              "\n",
              "<svg xmlns=\"http://www.w3.org/2000/svg\" height=\"24px\"viewBox=\"0 0 24 24\"\n",
              "     width=\"24px\">\n",
              "    <g>\n",
              "        <path d=\"M19 3H5c-1.1 0-2 .9-2 2v14c0 1.1.9 2 2 2h14c1.1 0 2-.9 2-2V5c0-1.1-.9-2-2-2zM9 17H7v-7h2v7zm4 0h-2V7h2v10zm4 0h-2v-4h2v4z\"/>\n",
              "    </g>\n",
              "</svg>\n",
              "  </button>\n",
              "\n",
              "<style>\n",
              "  .colab-df-quickchart {\n",
              "      --bg-color: #E8F0FE;\n",
              "      --fill-color: #1967D2;\n",
              "      --hover-bg-color: #E2EBFA;\n",
              "      --hover-fill-color: #174EA6;\n",
              "      --disabled-fill-color: #AAA;\n",
              "      --disabled-bg-color: #DDD;\n",
              "  }\n",
              "\n",
              "  [theme=dark] .colab-df-quickchart {\n",
              "      --bg-color: #3B4455;\n",
              "      --fill-color: #D2E3FC;\n",
              "      --hover-bg-color: #434B5C;\n",
              "      --hover-fill-color: #FFFFFF;\n",
              "      --disabled-bg-color: #3B4455;\n",
              "      --disabled-fill-color: #666;\n",
              "  }\n",
              "\n",
              "  .colab-df-quickchart {\n",
              "    background-color: var(--bg-color);\n",
              "    border: none;\n",
              "    border-radius: 50%;\n",
              "    cursor: pointer;\n",
              "    display: none;\n",
              "    fill: var(--fill-color);\n",
              "    height: 32px;\n",
              "    padding: 0;\n",
              "    width: 32px;\n",
              "  }\n",
              "\n",
              "  .colab-df-quickchart:hover {\n",
              "    background-color: var(--hover-bg-color);\n",
              "    box-shadow: 0 1px 2px rgba(60, 64, 67, 0.3), 0 1px 3px 1px rgba(60, 64, 67, 0.15);\n",
              "    fill: var(--button-hover-fill-color);\n",
              "  }\n",
              "\n",
              "  .colab-df-quickchart-complete:disabled,\n",
              "  .colab-df-quickchart-complete:disabled:hover {\n",
              "    background-color: var(--disabled-bg-color);\n",
              "    fill: var(--disabled-fill-color);\n",
              "    box-shadow: none;\n",
              "  }\n",
              "\n",
              "  .colab-df-spinner {\n",
              "    border: 2px solid var(--fill-color);\n",
              "    border-color: transparent;\n",
              "    border-bottom-color: var(--fill-color);\n",
              "    animation:\n",
              "      spin 1s steps(1) infinite;\n",
              "  }\n",
              "\n",
              "  @keyframes spin {\n",
              "    0% {\n",
              "      border-color: transparent;\n",
              "      border-bottom-color: var(--fill-color);\n",
              "      border-left-color: var(--fill-color);\n",
              "    }\n",
              "    20% {\n",
              "      border-color: transparent;\n",
              "      border-left-color: var(--fill-color);\n",
              "      border-top-color: var(--fill-color);\n",
              "    }\n",
              "    30% {\n",
              "      border-color: transparent;\n",
              "      border-left-color: var(--fill-color);\n",
              "      border-top-color: var(--fill-color);\n",
              "      border-right-color: var(--fill-color);\n",
              "    }\n",
              "    40% {\n",
              "      border-color: transparent;\n",
              "      border-right-color: var(--fill-color);\n",
              "      border-top-color: var(--fill-color);\n",
              "    }\n",
              "    60% {\n",
              "      border-color: transparent;\n",
              "      border-right-color: var(--fill-color);\n",
              "    }\n",
              "    80% {\n",
              "      border-color: transparent;\n",
              "      border-right-color: var(--fill-color);\n",
              "      border-bottom-color: var(--fill-color);\n",
              "    }\n",
              "    90% {\n",
              "      border-color: transparent;\n",
              "      border-bottom-color: var(--fill-color);\n",
              "    }\n",
              "  }\n",
              "</style>\n",
              "\n",
              "  <script>\n",
              "    async function quickchart(key) {\n",
              "      const quickchartButtonEl =\n",
              "        document.querySelector('#' + key + ' button');\n",
              "      quickchartButtonEl.disabled = true;  // To prevent multiple clicks.\n",
              "      quickchartButtonEl.classList.add('colab-df-spinner');\n",
              "      try {\n",
              "        const charts = await google.colab.kernel.invokeFunction(\n",
              "            'suggestCharts', [key], {});\n",
              "      } catch (error) {\n",
              "        console.error('Error during call to suggestCharts:', error);\n",
              "      }\n",
              "      quickchartButtonEl.classList.remove('colab-df-spinner');\n",
              "      quickchartButtonEl.classList.add('colab-df-quickchart-complete');\n",
              "    }\n",
              "    (() => {\n",
              "      let quickchartButtonEl =\n",
              "        document.querySelector('#df-87462fcb-0087-4a61-973c-f5d85c117bcd button');\n",
              "      quickchartButtonEl.style.display =\n",
              "        google.colab.kernel.accessAllowed ? 'block' : 'none';\n",
              "    })();\n",
              "  </script>\n",
              "</div>\n",
              "\n",
              "  <div id=\"id_6faad13c-a852-4c5c-a2f5-39b351cc5724\">\n",
              "    <style>\n",
              "      .colab-df-generate {\n",
              "        background-color: #E8F0FE;\n",
              "        border: none;\n",
              "        border-radius: 50%;\n",
              "        cursor: pointer;\n",
              "        display: none;\n",
              "        fill: #1967D2;\n",
              "        height: 32px;\n",
              "        padding: 0 0 0 0;\n",
              "        width: 32px;\n",
              "      }\n",
              "\n",
              "      .colab-df-generate:hover {\n",
              "        background-color: #E2EBFA;\n",
              "        box-shadow: 0px 1px 2px rgba(60, 64, 67, 0.3), 0px 1px 3px 1px rgba(60, 64, 67, 0.15);\n",
              "        fill: #174EA6;\n",
              "      }\n",
              "\n",
              "      [theme=dark] .colab-df-generate {\n",
              "        background-color: #3B4455;\n",
              "        fill: #D2E3FC;\n",
              "      }\n",
              "\n",
              "      [theme=dark] .colab-df-generate:hover {\n",
              "        background-color: #434B5C;\n",
              "        box-shadow: 0px 1px 3px 1px rgba(0, 0, 0, 0.15);\n",
              "        filter: drop-shadow(0px 1px 2px rgba(0, 0, 0, 0.3));\n",
              "        fill: #FFFFFF;\n",
              "      }\n",
              "    </style>\n",
              "    <button class=\"colab-df-generate\" onclick=\"generateWithVariable('store_prices_pivot')\"\n",
              "            title=\"Generate code using this dataframe.\"\n",
              "            style=\"display:none;\">\n",
              "\n",
              "  <svg xmlns=\"http://www.w3.org/2000/svg\" height=\"24px\"viewBox=\"0 0 24 24\"\n",
              "       width=\"24px\">\n",
              "    <path d=\"M7,19H8.4L18.45,9,17,7.55,7,17.6ZM5,21V16.75L18.45,3.32a2,2,0,0,1,2.83,0l1.4,1.43a1.91,1.91,0,0,1,.58,1.4,1.91,1.91,0,0,1-.58,1.4L9.25,21ZM18.45,9,17,7.55Zm-12,3A5.31,5.31,0,0,0,4.9,8.1,5.31,5.31,0,0,0,1,6.5,5.31,5.31,0,0,0,4.9,4.9,5.31,5.31,0,0,0,6.5,1,5.31,5.31,0,0,0,8.1,4.9,5.31,5.31,0,0,0,12,6.5,5.46,5.46,0,0,0,6.5,12Z\"/>\n",
              "  </svg>\n",
              "    </button>\n",
              "    <script>\n",
              "      (() => {\n",
              "      const buttonEl =\n",
              "        document.querySelector('#id_6faad13c-a852-4c5c-a2f5-39b351cc5724 button.colab-df-generate');\n",
              "      buttonEl.style.display =\n",
              "        google.colab.kernel.accessAllowed ? 'block' : 'none';\n",
              "\n",
              "      buttonEl.onclick = () => {\n",
              "        google.colab.notebook.generateWithVariable('store_prices_pivot');\n",
              "      }\n",
              "      })();\n",
              "    </script>\n",
              "  </div>\n",
              "\n",
              "    </div>\n",
              "  </div>\n"
            ],
            "application/vnd.google.colaboratory.intrinsic+json": {
              "type": "dataframe",
              "variable_name": "store_prices_pivot",
              "summary": "{\n  \"name\": \"store_prices_pivot\",\n  \"rows\": 2603,\n  \"fields\": [\n    {\n      \"column\": \"Date\",\n      \"properties\": {\n        \"dtype\": \"date\",\n        \"min\": \"2007-01-10 00:00:00\",\n        \"max\": \"2024-04-08 00:00:00\",\n        \"num_unique_values\": 2603,\n        \"samples\": [\n          \"2012-03-02 00:00:00\",\n          \"2013-04-24 00:00:00\",\n          \"2019-01-16 00:00:00\"\n        ],\n        \"semantic_type\": \"\",\n        \"description\": \"\"\n      }\n    },\n    {\n      \"column\": \"Big Retail Store\",\n      \"properties\": {\n        \"dtype\": \"number\",\n        \"std\": 2.5039511939791326,\n        \"min\": 5.436829268292683,\n        \"max\": 15.17,\n        \"num_unique_values\": 2310,\n        \"samples\": [\n          11.110638297872342,\n          6.973846153846154,\n          10.397222222222224\n        ],\n        \"semantic_type\": \"\",\n        \"description\": \"\"\n      }\n    },\n    {\n      \"column\": \"Mom and Pop Store\",\n      \"properties\": {\n        \"dtype\": \"number\",\n        \"std\": 4.13147728653704,\n        \"min\": 8.886603773584905,\n        \"max\": 25.9,\n        \"num_unique_values\": 1589,\n        \"samples\": [\n          16.15245283018868,\n          10.852075471698113,\n          24.094905660377357\n        ],\n        \"semantic_type\": \"\",\n        \"description\": \"\"\n      }\n    },\n    {\n      \"column\": \"ratio\",\n      \"properties\": {\n        \"dtype\": \"number\",\n        \"std\": 0.12855746788485709,\n        \"min\": 1.1480787253983131,\n        \"max\": 1.7556089947040454,\n        \"num_unique_values\": 2533,\n        \"samples\": [\n          1.680184344707794,\n          1.4487207259248562,\n          1.5761528939312297\n        ],\n        \"semantic_type\": \"\",\n        \"description\": \"\"\n      }\n    }\n  ]\n}"
            }
          },
          "metadata": {},
          "execution_count": 57
        }
      ]
    },
    {
      "cell_type": "code",
      "source": [
        "store_prices_pivot['ratio'].describe()"
      ],
      "metadata": {
        "colab": {
          "base_uri": "https://localhost:8080/"
        },
        "id": "vM2xoB_b9EV-",
        "outputId": "41b026c9-fbf9-442d-e8ce-05e2afbcdf30"
      },
      "execution_count": 58,
      "outputs": [
        {
          "output_type": "execute_result",
          "data": {
            "text/plain": [
              "count    2603.000000\n",
              "mean        1.467864\n",
              "std         0.128557\n",
              "min         1.148079\n",
              "25%         1.358152\n",
              "50%         1.436214\n",
              "75%         1.551588\n",
              "max         1.755609\n",
              "Name: ratio, dtype: float64"
            ]
          },
          "metadata": {},
          "execution_count": 58
        }
      ]
    },
    {
      "cell_type": "markdown",
      "source": [
        "Mom and Pop Stores are on average 1.47 times the price of Big Retail Stores."
      ],
      "metadata": {
        "id": "gnJDDgfsDA0S"
      }
    },
    {
      "cell_type": "code",
      "source": [
        "plt.figure(figsize=(12,6))\n",
        "for column in store_prices_pivot.columns:\n",
        "  plt.plot(store_prices_pivot.index, store_prices_pivot[column], marker='', label=column)\n",
        "\n",
        "plt.title('Comparison of Monthly Average Prices by Store type')\n",
        "plt.xlabel('Date')\n",
        "plt.ylabel('Average Price per Kilogram ($)')\n",
        "plt.grid(True)\n",
        "plt.legend(title='Store Type')\n",
        "plt.show()"
      ],
      "metadata": {
        "colab": {
          "base_uri": "https://localhost:8080/",
          "height": 363
        },
        "id": "8XmlyULDfSAE",
        "outputId": "3b5d011a-115d-4b56-9482-aa85a7e26996"
      },
      "execution_count": 59,
      "outputs": [
        {
          "output_type": "display_data",
          "data": {
            "text/plain": [
              "<Figure size 1200x600 with 1 Axes>"
            ],
            "image/png": "[encoded data removed]"
          },
          "metadata": {}
        }
      ]
    },
    {
      "cell_type": "markdown",
      "source": [
        "The prices of Mom and Pop Store are bigger than Big Retail Stores. Mom and Pop Stores are on average 1.47 times the price of Big Retail Stores."
      ],
      "metadata": {
        "id": "JgeCLVVWkeZV"
      }
    },
    {
      "cell_type": "markdown",
      "source": [
        "Perform statistical testing for the difference in mean"
      ],
      "metadata": {
        "id": "Mf6vKqzA8dDN"
      }
    },
    {
      "cell_type": "code",
      "source": [
        "price_mom_and_pop = df_clean[df_clean['Store type']=='Mom and Pop Store']['Price per kilogram']\n",
        "price_big_retail = df_clean[df_clean['Store type']=='Big Retail Store']['Price per kilogram']"
      ],
      "metadata": {
        "id": "X75eNmXV-pg7"
      },
      "execution_count": 60,
      "outputs": []
    },
    {
      "cell_type": "markdown",
      "source": [
        "Check for the assumptions before using t-test"
      ],
      "metadata": {
        "id": "95QjHBXr_dWk"
      }
    },
    {
      "cell_type": "code",
      "source": [
        "# homogeneity of variances\n",
        "from scipy import stats\n",
        "\n",
        "# Perform Levene's test\n",
        "stat, p_value = stats.levene(price_mom_and_pop, price_big_retail)\n",
        "\n",
        "print(f\"Levene's Test Statistic: {stat}, P-value: {p_value}\")"
      ],
      "metadata": {
        "id": "rfiH3I0_cp0D",
        "colab": {
          "base_uri": "https://localhost:8080/"
        },
        "outputId": "af2d9716-14ab-482a-88b7-6de948999c2d"
      },
      "execution_count": 61,
      "outputs": [
        {
          "output_type": "stream",
          "name": "stdout",
          "text": [
            "Levene's Test Statistic: 24444.544217666797, P-value: 0.0\n"
          ]
        }
      ]
    },
    {
      "cell_type": "markdown",
      "source": [
        "The p-value is low, indicating the variance of two groups are significantly different. We should use Welch's t-test."
      ],
      "metadata": {
        "id": "JrXbmpBe_lFr"
      }
    },
    {
      "cell_type": "code",
      "source": [
        "t_stat, p_value = stats.ttest_ind(price_mom_and_pop, price_big_retail, equal_var = False)\n",
        "\n",
        "print(f\"T-statistic: {t_stat}, P-value: {p_value}\")"
      ],
      "metadata": {
        "colab": {
          "base_uri": "https://localhost:8080/"
        },
        "id": "Rj2KOOtHECq2",
        "outputId": "2d04aaea-5d8c-40e8-be69-29224703cd22"
      },
      "execution_count": 62,
      "outputs": [
        {
          "output_type": "stream",
          "name": "stdout",
          "text": [
            "T-statistic: 316.95064724924015, P-value: 0.0\n"
          ]
        }
      ]
    },
    {
      "cell_type": "markdown",
      "source": [
        "The t-test results show very low p-value. We can reject the null hypothesis that the two groups have equal mean, and also because the t-statistic is positive and p-value is close to 0, we can conclude that the price of \"Mom and Pop store\" is bigger than \"Big retail store\"."
      ],
      "metadata": {
        "id": "YmmLh4V3EdIx"
      }
    },
    {
      "cell_type": "markdown",
      "source": [
        "## **4. Regional Price Analysis**"
      ],
      "metadata": {
        "id": "cIzO2brylVMF"
      }
    },
    {
      "cell_type": "code",
      "source": [
        "import pandas as pd\n",
        "\n",
        "# Assuming the DataFrame is loaded as df\n",
        "state_average_prices = df_clean.groupby(['State'])['Price per kilogram'].mean().reset_index()\n",
        "city_average_prices = df_clean.groupby(['City'])['Price per kilogram'].mean().reset_index()"
      ],
      "metadata": {
        "id": "JAAodtd6l17p"
      },
      "execution_count": 63,
      "outputs": []
    },
    {
      "cell_type": "markdown",
      "source": [
        "Sort by price state"
      ],
      "metadata": {
        "id": "8UXb1tP6ljKN"
      }
    },
    {
      "cell_type": "code",
      "source": [
        "#Sort the DataFrame by the 'Price per kilogram' column in descending order\n",
        "sorted_states = state_average_prices.sort_values(by='Price per kilogram', ascending=False)\n",
        "\n",
        "# Get the top 3 cities with the highest prices\n",
        "top_states = sorted_states.head(3)\n",
        "\n",
        "# Get the lowest 3 cities with the lowest prices\n",
        "lowest_states = sorted_states.tail(3)\n",
        "\n",
        "# Display the results\n",
        "print(\"Top 3 States with the Highest Prices:\")\n",
        "print(top_states)\n",
        "print(\"\\nBottom 3 States with the Lowest Prices:\")\n",
        "print(lowest_states)"
      ],
      "metadata": {
        "colab": {
          "base_uri": "https://localhost:8080/"
        },
        "id": "9bY_rnPElrVC",
        "outputId": "35b6f19d-3c58-4248-a8a6-a62f49cc0003"
      },
      "execution_count": 64,
      "outputs": [
        {
          "output_type": "stream",
          "name": "stdout",
          "text": [
            "Top 3 States with the Highest Prices:\n",
            "              State  Price per kilogram\n",
            "25           Sonora           13.554493\n",
            "1   Baja California           13.408745\n",
            "6          Coahuila           12.978632\n",
            "\n",
            "Bottom 3 States with the Lowest Prices:\n",
            "       State  Price per kilogram\n",
            "8       D.F.           10.897194\n",
            "20    Puebla           10.076969\n",
            "28  Tlaxcala            9.922403\n"
          ]
        }
      ]
    },
    {
      "cell_type": "markdown",
      "source": [
        "Sort by price city"
      ],
      "metadata": {
        "id": "8KbWjU8hlr1m"
      }
    },
    {
      "cell_type": "code",
      "source": [
        "# Sort the DataFrame by the 'Price per kilogram' column in descending order\n",
        "sorted_cities = city_average_prices.sort_values(by='Price per kilogram', ascending=False)\n",
        "\n",
        "# Get the top 3 cities with the highest prices\n",
        "top_cities = sorted_cities.head(3)\n",
        "\n",
        "# Get the lowest 3 cities with the lowest prices\n",
        "lowest_cities = sorted_cities.tail(3)\n",
        "\n",
        "# Display the results\n",
        "print(\"Top 3 Cities with the Highest Prices:\")\n",
        "print(top_cities)\n",
        "print(\"\\nBottom 3 Cities with the Lowest Prices:\")\n",
        "print(lowest_cities)"
      ],
      "metadata": {
        "colab": {
          "base_uri": "https://localhost:8080/"
        },
        "id": "0U_MnUfqliAA",
        "outputId": "6ca47583-a849-45be-aaa3-84f36ceca593"
      },
      "execution_count": 65,
      "outputs": [
        {
          "output_type": "stream",
          "name": "stdout",
          "text": [
            "Top 3 Cities with the Highest Prices:\n",
            "                     City  Price per kilogram\n",
            "19             Hermosillo           14.244065\n",
            "24               Mexicali           14.093498\n",
            "39  San Luis Río Colorado           13.825231\n",
            "\n",
            "Bottom 3 Cities with the Lowest Prices:\n",
            "         City  Price per kilogram\n",
            "54  ZM Puebla            9.990232\n",
            "44   Tlaxcala            9.922403\n",
            "20   Irapuato            9.373015\n"
          ]
        }
      ]
    },
    {
      "cell_type": "markdown",
      "source": [
        "Calculate variance of price within region"
      ],
      "metadata": {
        "id": "JhsgaLkTmFy_"
      }
    },
    {
      "cell_type": "code",
      "source": [
        "# Calculating variance of prices within each city\n",
        "city_variance = df_clean.groupby('City')['Price per kilogram'].var()\n",
        "\n",
        "# Calculating variance of prices within each state\n",
        "state_variance = df_clean.groupby('State')['Price per kilogram'].var()\n",
        "\n",
        "city_variance.head(), state_variance.head()\n"
      ],
      "metadata": {
        "colab": {
          "base_uri": "https://localhost:8080/"
        },
        "id": "prD_kIjmj5dU",
        "outputId": "e601b0ec-da1e-4978-bb04-8637d8868254"
      },
      "execution_count": 66,
      "outputs": [
        {
          "output_type": "execute_result",
          "data": {
            "text/plain": [
              "(City\n",
              " Acapulco          29.597928\n",
              " Aguascalientes    12.071372\n",
              " Campeche          22.141294\n",
              " Cancún            22.137980\n",
              " Cd. Juárez        13.442519\n",
              " Name: Price per kilogram, dtype: float64,\n",
              " State\n",
              " Aguascalientes         12.071372\n",
              " Baja California        25.838702\n",
              " Baja California Sur    25.092428\n",
              " Campeche               22.141294\n",
              " Chiapas                15.318225\n",
              " Name: Price per kilogram, dtype: float64)"
            ]
          },
          "metadata": {},
          "execution_count": 66
        }
      ]
    },
    {
      "cell_type": "markdown",
      "source": [
        "Sort by variance"
      ],
      "metadata": {
        "id": "A_eFYcmRmKS3"
      }
    },
    {
      "cell_type": "code",
      "source": [
        "sorted_variances_states = state_variance.sort_values(ascending=False)\n",
        "sorted_variances_cities = city_variance.sort_values(ascending=False)\n",
        "\n",
        "sorted_variances_states.head(1), sorted_variances_states.tail(1), sorted_variances_cities.head(1), sorted_variances_cities.tail(1)"
      ],
      "metadata": {
        "colab": {
          "base_uri": "https://localhost:8080/"
        },
        "id": "cHFQfEq6kC__",
        "outputId": "7fd4706e-6647-48bd-b21f-e3b9228a8dcf"
      },
      "execution_count": 67,
      "outputs": [
        {
          "output_type": "execute_result",
          "data": {
            "text/plain": [
              "(State\n",
              " Sonora    29.192412\n",
              " Name: Price per kilogram, dtype: float64,\n",
              " State\n",
              " Puebla    5.919433\n",
              " Name: Price per kilogram, dtype: float64,\n",
              " City\n",
              " Hermosillo    38.252688\n",
              " Name: Price per kilogram, dtype: float64,\n",
              " City\n",
              " ZM Puebla    5.099053\n",
              " Name: Price per kilogram, dtype: float64)"
            ]
          },
          "metadata": {},
          "execution_count": 67
        }
      ]
    },
    {
      "cell_type": "markdown",
      "source": [
        "## **5. Relevant features**"
      ],
      "metadata": {
        "id": "_eglEpWmFr4P"
      }
    },
    {
      "cell_type": "code",
      "source": [
        "from sklearn.impute import SimpleImputer\n",
        "from sklearn.preprocessing import OneHotEncoder\n",
        "from sklearn.compose import ColumnTransformer\n",
        "from sklearn.pipeline import Pipeline\n",
        "\n",
        "# Impute missing values in the 'Price per kilogram' column with the median of the column\n",
        "imputer = SimpleImputer(strategy='median')\n",
        "df_clean['Price per kilogram'] = imputer.fit_transform(df_clean[['Price per kilogram']])\n",
        "\n",
        "# Select categorical and numeric features for processing\n",
        "categorical_features = ['State', 'City', 'Store type']\n",
        "numeric_features = ['Year', 'Month', 'Day']\n",
        "\n",
        "# Create a transformer pipeline to handle preprocessing\n",
        "preprocessor = ColumnTransformer(\n",
        "    transformers=[\n",
        "        ('num', SimpleImputer(strategy='median'), numeric_features),\n",
        "        ('cat', OneHotEncoder(handle_unknown='ignore'), categorical_features)\n",
        "    ])\n",
        "\n",
        "# Apply the preprocessing pipeline to the data\n",
        "X = preprocessor.fit_transform(df_clean.drop('Price per kilogram', axis=1))\n",
        "y = df_clean['Price per kilogram'].values"
      ],
      "metadata": {
        "id": "z-PmOtrI9fOk"
      },
      "execution_count": 68,
      "outputs": []
    },
    {
      "cell_type": "code",
      "source": [
        "from sklearn.model_selection import train_test_split\n",
        "\n",
        "# Splitting the data into train and test sets\n",
        "X_train, X_test, y_train, y_test = train_test_split(X, y, test_size=0.3, random_state=42)"
      ],
      "metadata": {
        "id": "mpPeTLesB6Md"
      },
      "execution_count": 69,
      "outputs": []
    },
    {
      "cell_type": "code",
      "source": [
        "feature_names = preprocessor.get_feature_names_out()"
      ],
      "metadata": {
        "id": "GCcz3O7fDQF5"
      },
      "execution_count": 70,
      "outputs": []
    },
    {
      "cell_type": "code",
      "source": [
        "from sklearn.feature_selection import RFE\n",
        "from sklearn.linear_model import LinearRegression\n",
        "\n",
        "# Instantiate the base model\n",
        "linear_regressor = LinearRegression()\n",
        "\n",
        "# Setting up RFE with the linear regressor, selecting top 10 features for simplicity\n",
        "rfe = RFE(estimator=linear_regressor, n_features_to_select=10, step=1)\n",
        "\n",
        "# Fit RFE\n",
        "rfe.fit(X_train, y_train)\n",
        "\n",
        "# Check the ranking of the features\n",
        "rfe_ranking = rfe.ranking_\n",
        "rfe_support = rfe.support_\n",
        "\n",
        "# Correcting the features name here\n",
        "rfe_results_df = pd.DataFrame({\n",
        "    'Feature': feature_names,  # Use feature_names instead of features\n",
        "    'Ranking': rfe_ranking,\n",
        "    'Selected': rfe_support\n",
        "}).sort_values(by='Ranking')\n"
      ],
      "metadata": {
        "id": "8BxE7pzDDPPE"
      },
      "execution_count": 71,
      "outputs": []
    },
    {
      "cell_type": "code",
      "source": [
        "# Display the top 10 features\n",
        "rfe_results_df_10 = rfe_results_df.head(10)\n",
        "rfe_results_df_10"
      ],
      "metadata": {
        "colab": {
          "base_uri": "https://localhost:8080/",
          "height": 363
        },
        "id": "ykFlvYBPVrDP",
        "outputId": "102edbf0-0e7a-4c36-9d23-847de1b6a18f"
      },
      "execution_count": 72,
      "outputs": [
        {
          "output_type": "execute_result",
          "data": {
            "text/plain": [
              "                              Feature  Ranking  Selected\n",
              "92  cat__Store type_Mom and Pop Store        1      True\n",
              "42                   cat__City_Celaya        1      True\n",
              "23                  cat__State_Puebla        1      True\n",
              "91   cat__Store type_Big Retail Store        1      True\n",
              "16                 cat__State_Hidalgo        1      True\n",
              "55                 cat__City_Irapuato        1      True\n",
              "59                 cat__City_Mexicali        1      True\n",
              "54               cat__City_Hermosillo        1      True\n",
              "85                   cat__City_Xalapa        1      True\n",
              "79                 cat__City_Tlaxcala        1      True"
            ],
            "text/html": [
              "\n",
              "  <div id=\"df-61da182b-25e9-4d2a-b7ef-7f4d36ea3ab1\" class=\"colab-df-container\">\n",
              "    <div>\n",
              "<style scoped>\n",
              "    .dataframe tbody tr th:only-of-type {\n",
              "        vertical-align: middle;\n",
              "    }\n",
              "\n",
              "    .dataframe tbody tr th {\n",
              "        vertical-align: top;\n",
              "    }\n",
              "\n",
              "    .dataframe thead th {\n",
              "        text-align: right;\n",
              "    }\n",
              "</style>\n",
              "<table border=\"1\" class=\"dataframe\">\n",
              "  <thead>\n",
              "    <tr style=\"text-align: right;\">\n",
              "      <th></th>\n",
              "      <th>Feature</th>\n",
              "      <th>Ranking</th>\n",
              "      <th>Selected</th>\n",
              "    </tr>\n",
              "  </thead>\n",
              "  <tbody>\n",
              "    <tr>\n",
              "      <th>92</th>\n",
              "      <td>cat__Store type_Mom and Pop Store</td>\n",
              "      <td>1</td>\n",
              "      <td>True</td>\n",
              "    </tr>\n",
              "    <tr>\n",
              "      <th>42</th>\n",
              "      <td>cat__City_Celaya</td>\n",
              "      <td>1</td>\n",
              "      <td>True</td>\n",
              "    </tr>\n",
              "    <tr>\n",
              "      <th>23</th>\n",
              "      <td>cat__State_Puebla</td>\n",
              "      <td>1</td>\n",
              "      <td>True</td>\n",
              "    </tr>\n",
              "    <tr>\n",
              "      <th>91</th>\n",
              "      <td>cat__Store type_Big Retail Store</td>\n",
              "      <td>1</td>\n",
              "      <td>True</td>\n",
              "    </tr>\n",
              "    <tr>\n",
              "      <th>16</th>\n",
              "      <td>cat__State_Hidalgo</td>\n",
              "      <td>1</td>\n",
              "      <td>True</td>\n",
              "    </tr>\n",
              "    <tr>\n",
              "      <th>55</th>\n",
              "      <td>cat__City_Irapuato</td>\n",
              "      <td>1</td>\n",
              "      <td>True</td>\n",
              "    </tr>\n",
              "    <tr>\n",
              "      <th>59</th>\n",
              "      <td>cat__City_Mexicali</td>\n",
              "      <td>1</td>\n",
              "      <td>True</td>\n",
              "    </tr>\n",
              "    <tr>\n",
              "      <th>54</th>\n",
              "      <td>cat__City_Hermosillo</td>\n",
              "      <td>1</td>\n",
              "      <td>True</td>\n",
              "    </tr>\n",
              "    <tr>\n",
              "      <th>85</th>\n",
              "      <td>cat__City_Xalapa</td>\n",
              "      <td>1</td>\n",
              "      <td>True</td>\n",
              "    </tr>\n",
              "    <tr>\n",
              "      <th>79</th>\n",
              "      <td>cat__City_Tlaxcala</td>\n",
              "      <td>1</td>\n",
              "      <td>True</td>\n",
              "    </tr>\n",
              "  </tbody>\n",
              "</table>\n",
              "</div>\n",
              "    <div class=\"colab-df-buttons\">\n",
              "\n",
              "  <div class=\"colab-df-container\">\n",
              "    <button class=\"colab-df-convert\" onclick=\"convertToInteractive('df-61da182b-25e9-4d2a-b7ef-7f4d36ea3ab1')\"\n",
              "            title=\"Convert this dataframe to an interactive table.\"\n",
              "            style=\"display:none;\">\n",
              "\n",
              "  <svg xmlns=\"http://www.w3.org/2000/svg\" height=\"24px\" viewBox=\"0 -960 960 960\">\n",
              "    <path d=\"M120-120v-720h720v720H120Zm60-500h600v-160H180v160Zm220 220h160v-160H400v160Zm0 220h160v-160H400v160ZM180-400h160v-160H180v160Zm440 0h160v-160H620v160ZM180-180h160v-160H180v160Zm440 0h160v-160H620v160Z\"/>\n",
              "  </svg>\n",
              "    </button>\n",
              "\n",
              "  <style>\n",
              "    .colab-df-container {\n",
              "      display:flex;\n",
              "      gap: 12px;\n",
              "    }\n",
              "\n",
              "    .colab-df-convert {\n",
              "      background-color: #E8F0FE;\n",
              "      border: none;\n",
              "      border-radius: 50%;\n",
              "      cursor: pointer;\n",
              "      display: none;\n",
              "      fill: #1967D2;\n",
              "      height: 32px;\n",
              "      padding: 0 0 0 0;\n",
              "      width: 32px;\n",
              "    }\n",
              "\n",
              "    .colab-df-convert:hover {\n",
              "      background-color: #E2EBFA;\n",
              "      box-shadow: 0px 1px 2px rgba(60, 64, 67, 0.3), 0px 1px 3px 1px rgba(60, 64, 67, 0.15);\n",
              "      fill: #174EA6;\n",
              "    }\n",
              "\n",
              "    .colab-df-buttons div {\n",
              "      margin-bottom: 4px;\n",
              "    }\n",
              "\n",
              "    [theme=dark] .colab-df-convert {\n",
              "      background-color: #3B4455;\n",
              "      fill: #D2E3FC;\n",
              "    }\n",
              "\n",
              "    [theme=dark] .colab-df-convert:hover {\n",
              "      background-color: #434B5C;\n",
              "      box-shadow: 0px 1px 3px 1px rgba(0, 0, 0, 0.15);\n",
              "      filter: drop-shadow(0px 1px 2px rgba(0, 0, 0, 0.3));\n",
              "      fill: #FFFFFF;\n",
              "    }\n",
              "  </style>\n",
              "\n",
              "    <script>\n",
              "      const buttonEl =\n",
              "        document.querySelector('#df-61da182b-25e9-4d2a-b7ef-7f4d36ea3ab1 button.colab-df-convert');\n",
              "      buttonEl.style.display =\n",
              "        google.colab.kernel.accessAllowed ? 'block' : 'none';\n",
              "\n",
              "      async function convertToInteractive(key) {\n",
              "        const element = document.querySelector('#df-61da182b-25e9-4d2a-b7ef-7f4d36ea3ab1');\n",
              "        const dataTable =\n",
              "          await google.colab.kernel.invokeFunction('convertToInteractive',\n",
              "                                                    [key], {});\n",
              "        if (!dataTable) return;\n",
              "\n",
              "        const docLinkHtml = 'Like what you see? Visit the ' +\n",
              "          '<a target=\"_blank\" href=https://colab.research.google.com/notebooks/data_table.ipynb>data table notebook</a>'\n",
              "          + ' to learn more about interactive tables.';\n",
              "        element.innerHTML = '';\n",
              "        dataTable['output_type'] = 'display_data';\n",
              "        await google.colab.output.renderOutput(dataTable, element);\n",
              "        const docLink = document.createElement('div');\n",
              "        docLink.innerHTML = docLinkHtml;\n",
              "        element.appendChild(docLink);\n",
              "      }\n",
              "    </script>\n",
              "  </div>\n",
              "\n",
              "\n",
              "<div id=\"df-b4c2c01a-6e94-4da8-b600-1ab9c428e5eb\">\n",
              "  <button class=\"colab-df-quickchart\" onclick=\"quickchart('df-b4c2c01a-6e94-4da8-b600-1ab9c428e5eb')\"\n",
              "            title=\"Suggest charts\"\n",
              "            style=\"display:none;\">\n",
              "\n",
              "<svg xmlns=\"http://www.w3.org/2000/svg\" height=\"24px\"viewBox=\"0 0 24 24\"\n",
              "     width=\"24px\">\n",
              "    <g>\n",
              "        <path d=\"M19 3H5c-1.1 0-2 .9-2 2v14c0 1.1.9 2 2 2h14c1.1 0 2-.9 2-2V5c0-1.1-.9-2-2-2zM9 17H7v-7h2v7zm4 0h-2V7h2v10zm4 0h-2v-4h2v4z\"/>\n",
              "    </g>\n",
              "</svg>\n",
              "  </button>\n",
              "\n",
              "<style>\n",
              "  .colab-df-quickchart {\n",
              "      --bg-color: #E8F0FE;\n",
              "      --fill-color: #1967D2;\n",
              "      --hover-bg-color: #E2EBFA;\n",
              "      --hover-fill-color: #174EA6;\n",
              "      --disabled-fill-color: #AAA;\n",
              "      --disabled-bg-color: #DDD;\n",
              "  }\n",
              "\n",
              "  [theme=dark] .colab-df-quickchart {\n",
              "      --bg-color: #3B4455;\n",
              "      --fill-color: #D2E3FC;\n",
              "      --hover-bg-color: #434B5C;\n",
              "      --hover-fill-color: #FFFFFF;\n",
              "      --disabled-bg-color: #3B4455;\n",
              "      --disabled-fill-color: #666;\n",
              "  }\n",
              "\n",
              "  .colab-df-quickchart {\n",
              "    background-color: var(--bg-color);\n",
              "    border: none;\n",
              "    border-radius: 50%;\n",
              "    cursor: pointer;\n",
              "    display: none;\n",
              "    fill: var(--fill-color);\n",
              "    height: 32px;\n",
              "    padding: 0;\n",
              "    width: 32px;\n",
              "  }\n",
              "\n",
              "  .colab-df-quickchart:hover {\n",
              "    background-color: var(--hover-bg-color);\n",
              "    box-shadow: 0 1px 2px rgba(60, 64, 67, 0.3), 0 1px 3px 1px rgba(60, 64, 67, 0.15);\n",
              "    fill: var(--button-hover-fill-color);\n",
              "  }\n",
              "\n",
              "  .colab-df-quickchart-complete:disabled,\n",
              "  .colab-df-quickchart-complete:disabled:hover {\n",
              "    background-color: var(--disabled-bg-color);\n",
              "    fill: var(--disabled-fill-color);\n",
              "    box-shadow: none;\n",
              "  }\n",
              "\n",
              "  .colab-df-spinner {\n",
              "    border: 2px solid var(--fill-color);\n",
              "    border-color: transparent;\n",
              "    border-bottom-color: var(--fill-color);\n",
              "    animation:\n",
              "      spin 1s steps(1) infinite;\n",
              "  }\n",
              "\n",
              "  @keyframes spin {\n",
              "    0% {\n",
              "      border-color: transparent;\n",
              "      border-bottom-color: var(--fill-color);\n",
              "      border-left-color: var(--fill-color);\n",
              "    }\n",
              "    20% {\n",
              "      border-color: transparent;\n",
              "      border-left-color: var(--fill-color);\n",
              "      border-top-color: var(--fill-color);\n",
              "    }\n",
              "    30% {\n",
              "      border-color: transparent;\n",
              "      border-left-color: var(--fill-color);\n",
              "      border-top-color: var(--fill-color);\n",
              "      border-right-color: var(--fill-color);\n",
              "    }\n",
              "    40% {\n",
              "      border-color: transparent;\n",
              "      border-right-color: var(--fill-color);\n",
              "      border-top-color: var(--fill-color);\n",
              "    }\n",
              "    60% {\n",
              "      border-color: transparent;\n",
              "      border-right-color: var(--fill-color);\n",
              "    }\n",
              "    80% {\n",
              "      border-color: transparent;\n",
              "      border-right-color: var(--fill-color);\n",
              "      border-bottom-color: var(--fill-color);\n",
              "    }\n",
              "    90% {\n",
              "      border-color: transparent;\n",
              "      border-bottom-color: var(--fill-color);\n",
              "    }\n",
              "  }\n",
              "</style>\n",
              "\n",
              "  <script>\n",
              "    async function quickchart(key) {\n",
              "      const quickchartButtonEl =\n",
              "        document.querySelector('#' + key + ' button');\n",
              "      quickchartButtonEl.disabled = true;  // To prevent multiple clicks.\n",
              "      quickchartButtonEl.classList.add('colab-df-spinner');\n",
              "      try {\n",
              "        const charts = await google.colab.kernel.invokeFunction(\n",
              "            'suggestCharts', [key], {});\n",
              "      } catch (error) {\n",
              "        console.error('Error during call to suggestCharts:', error);\n",
              "      }\n",
              "      quickchartButtonEl.classList.remove('colab-df-spinner');\n",
              "      quickchartButtonEl.classList.add('colab-df-quickchart-complete');\n",
              "    }\n",
              "    (() => {\n",
              "      let quickchartButtonEl =\n",
              "        document.querySelector('#df-b4c2c01a-6e94-4da8-b600-1ab9c428e5eb button');\n",
              "      quickchartButtonEl.style.display =\n",
              "        google.colab.kernel.accessAllowed ? 'block' : 'none';\n",
              "    })();\n",
              "  </script>\n",
              "</div>\n",
              "\n",
              "  <div id=\"id_1106803c-eae0-4eb4-a2c6-cd617fda492c\">\n",
              "    <style>\n",
              "      .colab-df-generate {\n",
              "        background-color: #E8F0FE;\n",
              "        border: none;\n",
              "        border-radius: 50%;\n",
              "        cursor: pointer;\n",
              "        display: none;\n",
              "        fill: #1967D2;\n",
              "        height: 32px;\n",
              "        padding: 0 0 0 0;\n",
              "        width: 32px;\n",
              "      }\n",
              "\n",
              "      .colab-df-generate:hover {\n",
              "        background-color: #E2EBFA;\n",
              "        box-shadow: 0px 1px 2px rgba(60, 64, 67, 0.3), 0px 1px 3px 1px rgba(60, 64, 67, 0.15);\n",
              "        fill: #174EA6;\n",
              "      }\n",
              "\n",
              "      [theme=dark] .colab-df-generate {\n",
              "        background-color: #3B4455;\n",
              "        fill: #D2E3FC;\n",
              "      }\n",
              "\n",
              "      [theme=dark] .colab-df-generate:hover {\n",
              "        background-color: #434B5C;\n",
              "        box-shadow: 0px 1px 3px 1px rgba(0, 0, 0, 0.15);\n",
              "        filter: drop-shadow(0px 1px 2px rgba(0, 0, 0, 0.3));\n",
              "        fill: #FFFFFF;\n",
              "      }\n",
              "    </style>\n",
              "    <button class=\"colab-df-generate\" onclick=\"generateWithVariable('rfe_results_df_10')\"\n",
              "            title=\"Generate code using this dataframe.\"\n",
              "            style=\"display:none;\">\n",
              "\n",
              "  <svg xmlns=\"http://www.w3.org/2000/svg\" height=\"24px\"viewBox=\"0 0 24 24\"\n",
              "       width=\"24px\">\n",
              "    <path d=\"M7,19H8.4L18.45,9,17,7.55,7,17.6ZM5,21V16.75L18.45,3.32a2,2,0,0,1,2.83,0l1.4,1.43a1.91,1.91,0,0,1,.58,1.4,1.91,1.91,0,0,1-.58,1.4L9.25,21ZM18.45,9,17,7.55Zm-12,3A5.31,5.31,0,0,0,4.9,8.1,5.31,5.31,0,0,0,1,6.5,5.31,5.31,0,0,0,4.9,4.9,5.31,5.31,0,0,0,6.5,1,5.31,5.31,0,0,0,8.1,4.9,5.31,5.31,0,0,0,12,6.5,5.46,5.46,0,0,0,6.5,12Z\"/>\n",
              "  </svg>\n",
              "    </button>\n",
              "    <script>\n",
              "      (() => {\n",
              "      const buttonEl =\n",
              "        document.querySelector('#id_1106803c-eae0-4eb4-a2c6-cd617fda492c button.colab-df-generate');\n",
              "      buttonEl.style.display =\n",
              "        google.colab.kernel.accessAllowed ? 'block' : 'none';\n",
              "\n",
              "      buttonEl.onclick = () => {\n",
              "        google.colab.notebook.generateWithVariable('rfe_results_df_10');\n",
              "      }\n",
              "      })();\n",
              "    </script>\n",
              "  </div>\n",
              "\n",
              "    </div>\n",
              "  </div>\n"
            ],
            "application/vnd.google.colaboratory.intrinsic+json": {
              "type": "dataframe",
              "variable_name": "rfe_results_df_10",
              "summary": "{\n  \"name\": \"rfe_results_df_10\",\n  \"rows\": 10,\n  \"fields\": [\n    {\n      \"column\": \"Feature\",\n      \"properties\": {\n        \"dtype\": \"string\",\n        \"num_unique_values\": 10,\n        \"samples\": [\n          \"cat__City_Xalapa\",\n          \"cat__City_Celaya\",\n          \"cat__City_Irapuato\"\n        ],\n        \"semantic_type\": \"\",\n        \"description\": \"\"\n      }\n    },\n    {\n      \"column\": \"Ranking\",\n      \"properties\": {\n        \"dtype\": \"number\",\n        \"std\": 0,\n        \"min\": 1,\n        \"max\": 1,\n        \"num_unique_values\": 1,\n        \"samples\": [\n          1\n        ],\n        \"semantic_type\": \"\",\n        \"description\": \"\"\n      }\n    },\n    {\n      \"column\": \"Selected\",\n      \"properties\": {\n        \"dtype\": \"boolean\",\n        \"num_unique_values\": 1,\n        \"samples\": [\n          true\n        ],\n        \"semantic_type\": \"\",\n        \"description\": \"\"\n      }\n    }\n  ]\n}"
            }
          },
          "metadata": {},
          "execution_count": 72
        }
      ]
    }
  ]
}