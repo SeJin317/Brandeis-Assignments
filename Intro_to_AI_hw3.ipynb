{
  "nbformat": 4,
  "nbformat_minor": 0,
  "metadata": {
    "colab": {
      "provenance": [],
      "include_colab_link": true
    },
    "kernelspec": {
      "name": "python3",
      "display_name": "Python 3"
    },
    "language_info": {
      "name": "python"
    }
  },
  "cells": [
    {
      "cell_type": "markdown",
      "metadata": {
        "id": "view-in-github",
        "colab_type": "text"
      },
      "source": [
        "<a href=\"https://colab.research.google.com/github/SeJin317/Brandeis-Assignments/blob/main/Intro_to_AI_hw3.ipynb\" target=\"_parent\"><img src=\"https://colab.research.google.com/assets/colab-badge.svg\" alt=\"Open In Colab\"/></a>"
      ]
    },
    {
      "cell_type": "markdown",
      "source": [
        "## 1. Data loading and exploration"
      ],
      "metadata": {
        "id": "oHBOwx1PI3MH"
      }
    },
    {
      "cell_type": "markdown",
      "source": [
        "## 2. Build a model\n",
        "\n",
        ">split the training data into training and validation set.\n",
        "\n",
        "\n"
      ],
      "metadata": {
        "id": "SQAhjSSnJBtx"
      }
    },
    {
      "cell_type": "markdown",
      "source": [
        "## 3. Evaluating the model\n",
        "\n",
        "> F1 score\n",
        "\n"
      ],
      "metadata": {
        "id": "TmoUrjlaJPno"
      }
    },
    {
      "cell_type": "markdown",
      "source": [
        "## 4. Make predictions using the test data"
      ],
      "metadata": {
        "id": "KAf0QiFyJkKS"
      }
    },
    {
      "cell_type": "markdown",
      "source": [
        "## 5. Calculate the F1 score"
      ],
      "metadata": {
        "id": "iKg9rNJtJ83x"
      }
    },
    {
      "cell_type": "code",
      "source": [
        "# Load data\n",
        "\n",
        "from google.colab import drive\n",
        "drive.mount('/content/drive')"
      ],
      "metadata": {
        "colab": {
          "base_uri": "https://localhost:8080/"
        },
        "id": "FHRJvwbmMC-F",
        "outputId": "60b05e8b-c754-4fe4-9aa8-06f818cbb2d8"
      },
      "execution_count": 2,
      "outputs": [
        {
          "output_type": "stream",
          "name": "stdout",
          "text": [
            "Mounted at /content/drive\n"
          ]
        }
      ]
    },
    {
      "cell_type": "code",
      "source": [
        "# Import data\n",
        "\n",
        "import pandas as pd\n",
        "\n",
        "file_path = '/content/drive/MyDrive/Assignments/Intro to AI/HW3_train.csv'\n",
        "file_path2 = '/content/drive/MyDrive/Assignments/Intro to AI/HW3_test.csv'\n",
        "\n",
        "train_df = pd.read_csv(file_path)\n",
        "test_df = pd.read_csv(file_path2)"
      ],
      "metadata": {
        "id": "QR4rNOktMPT3"
      },
      "execution_count": 3,
      "outputs": []
    },
    {
      "cell_type": "code",
      "source": [
        "# Import packages\n",
        "\n",
        "import pandas as pd\n",
        "from sklearn.model_selection import train_test_split\n",
        "from sklearn.preprocessing import StandardScaler, OneHotEncoder\n",
        "from sklearn.compose import ColumnTransformer\n",
        "from sklearn.pipeline import Pipeline\n",
        "from sklearn.ensemble import RandomForestClassifier\n",
        "from sklearn.metrics import f1_score"
      ],
      "metadata": {
        "id": "kCK5xgjcMWs1"
      },
      "execution_count": 4,
      "outputs": []
    },
    {
      "cell_type": "code",
      "source": [
        "# Preprocess data\n",
        "# Standardizing numerical value\n",
        "# One-hot encoding for categorical value\n",
        "\n",
        "numeric_features = train_df.select_dtypes(include=['int64', 'float64']).columns.drop('isFraud')\n",
        "categorical_features = train_df.select_dtypes(include=['object']).columns  # Fixed line\n",
        "\n",
        "preprocessor = ColumnTransformer(\n",
        "    transformers=[\n",
        "        ('num', StandardScaler(), numeric_features),\n",
        "        ('cat', OneHotEncoder(), categorical_features)])"
      ],
      "metadata": {
        "id": "A0cWww8GMlkz"
      },
      "execution_count": null,
      "outputs": []
    },
    {
      "cell_type": "markdown",
      "source": [
        "Use RandomForest classifier for classification"
      ],
      "metadata": {
        "id": "cdO298qAGHGu"
      }
    },
    {
      "cell_type": "code",
      "execution_count": null,
      "metadata": {
        "id": "2TPHzCGhIwJQ",
        "colab": {
          "base_uri": "https://localhost:8080/"
        },
        "outputId": "22e44b3f-7229-46f5-bdf2-99f32fd34f35"
      },
      "outputs": [
        {
          "output_type": "stream",
          "name": "stdout",
          "text": [
            "F1 Score on Validation Set: 0.7933884297520661\n"
          ]
        }
      ],
      "source": [
        "# Define the model\n",
        "model = Pipeline(steps=[('preprocessor', preprocessor),\n",
        "                        ('classifier', RandomForestClassifier())])\n",
        "\n",
        "# Split the data\n",
        "X_train, X_val, y_train, y_val = train_test_split(train_df.drop('isFraud', axis=1), train_df['isFraud'], test_size=0.2, random_state=42)\n",
        "\n",
        "# Train the model\n",
        "model.fit(X_train, y_train)\n",
        "\n",
        "# Predict on validation set\n",
        "val_predictions = model.predict(X_val)\n",
        "print(f\"F1 Score on Validation Set: {f1_score(y_val, val_predictions)}\")\n",
        "\n",
        "# Predict on test data\n",
        "test_predictions = model.predict(test_df)\n",
        "\n",
        "# Save predictions to CSV\n",
        "pd.DataFrame(test_predictions, columns=['Prediction']).to_csv(\"HW3_test_output.csv\", index=False)\n"
      ]
    },
    {
      "cell_type": "markdown",
      "source": [
        "Use Decision tree for classification"
      ],
      "metadata": {
        "id": "bcLbqM6tGMo4"
      }
    },
    {
      "cell_type": "code",
      "source": [
        "import numpy as np\n",
        "import pandas as pd\n",
        "from sklearn import tree\n",
        "from sklearn.model_selection import train_test_split\n",
        "from sklearn.metrics import confusion_matrix"
      ],
      "metadata": {
        "id": "KHsC7WolVMSk"
      },
      "execution_count": 1,
      "outputs": []
    },
    {
      "cell_type": "code",
      "source": [
        "numeric_features = train_df.select_dtypes(include=['int64', 'float64']).columns.drop('isFraud')\n",
        "categorical_features = train_df.select_dtypes(include=['object']).columns  # Fixed line\n",
        "\n",
        "preprocessor = ColumnTransformer(\n",
        "    transformers=[\n",
        "        ('num', StandardScaler(), numeric_features),\n",
        "        ('cat', OneHotEncoder(), categorical_features)])\n",
        "\n",
        "model = Pipeline(steps=[('preprocessor', preprocessor),\n",
        "                        ('classifier', tree.DecisionTreeClassifier())])\n",
        "\n",
        "\n",
        "X_train, X_val, y_train, y_val = train_test_split(train_df.drop('isFraud', axis=1), train_df['isFraud'], test_size=0.2, random_state=42)"
      ],
      "metadata": {
        "id": "9MwfrMPsG3E3"
      },
      "execution_count": 15,
      "outputs": []
    },
    {
      "cell_type": "code",
      "source": [
        "model.fit(X_train, y_train)\n",
        "\n",
        "# Get F1 score on validation set\n",
        "val_predictions = model.predict(X_val)\n",
        "print(f\"F1 Score on Validation Set: {f1_score(y_val, val_predictions)}\")"
      ],
      "metadata": {
        "colab": {
          "base_uri": "https://localhost:8080/"
        },
        "id": "_gDJyfCAGww0",
        "outputId": "73956762-0a22-44c7-a5e7-5994411936a8"
      },
      "execution_count": 16,
      "outputs": [
        {
          "output_type": "stream",
          "name": "stdout",
          "text": [
            "F1 Score on Validation Set: 0.6736842105263158\n"
          ]
        }
      ]
    },
    {
      "cell_type": "code",
      "source": [
        "test_predictions = model.predict(test_df.drop('isFraud', axis=1))\n",
        "\n",
        "# Save predictions to CSV\n",
        "pd.DataFrame(test_predictions, columns=['Prediction']).to_csv(\"HW3_test_output.csv\", index=False)"
      ],
      "metadata": {
        "id": "ruyWyyUQH7n8"
      },
      "execution_count": 20,
      "outputs": []
    }
  ]
}